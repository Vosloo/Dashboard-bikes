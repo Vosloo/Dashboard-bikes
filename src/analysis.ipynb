{
 "cells": [
  {
   "cell_type": "code",
   "execution_count": 1,
   "metadata": {},
   "outputs": [],
   "source": [
    "import pandas as pd\n",
    "import numpy as np\n",
    "import datetime\n",
    "\n",
    "from sklearn.neighbors import LocalOutlierFactor\n",
    "from pandas_profiling import ProfileReport"
   ]
  },
  {
   "cell_type": "code",
   "execution_count": 2,
   "metadata": {},
   "outputs": [],
   "source": [
    "data_path = '../data/'\n",
    "output_path = '../out/'"
   ]
  },
  {
   "cell_type": "code",
   "execution_count": 3,
   "metadata": {},
   "outputs": [
    {
     "output_type": "stream",
     "name": "stderr",
     "text": [
      "/home/marek-szyd/Programs/anaconda3/envs/dv/lib/python3.9/site-packages/IPython/core/interactiveshell.py:3169: DtypeWarning: Columns (2,4) have mixed types.Specify dtype option on import or set low_memory=False.\n  has_raised = await self.run_ast_nodes(code_ast.body, cell_name,\n"
     ]
    }
   ],
   "source": [
    "data = pd.read_csv(data_path + 'bikes.csv')"
   ]
  },
  {
   "cell_type": "code",
   "execution_count": 4,
   "metadata": {},
   "outputs": [],
   "source": [
    "data.drop(\n",
    "    [\n",
    "        'departure_latitude', 'departure_longitude', 'return_latitude', 'return_longitude',\n",
    "        'departure_id', 'return_id'\n",
    "    ],\n",
    "    axis=1, inplace=True\n",
    ") "
   ]
  },
  {
   "cell_type": "code",
   "execution_count": 5,
   "metadata": {},
   "outputs": [
    {
     "output_type": "execute_result",
     "data": {
      "text/plain": [
       "             departure               return    departure_name  \\\n",
       "0  2020-03-23 06:09:44  2020-03-23 06:16:26          Kuusitie   \n",
       "1  2020-03-23 06:11:58  2020-03-23 06:26:31        Kamppi (M)   \n",
       "2  2020-03-23 06:16:29  2020-03-23 06:24:23  Porolahden koulu   \n",
       "3  2020-03-23 06:33:53  2020-03-23 07:14:03        Vallipolku   \n",
       "4  2020-03-23 06:36:09  2020-03-23 07:04:10  Länsisatamankatu   \n",
       "\n",
       "        return_name  distance (m)  duration (sec.)  avg_speed (km/h)  \\\n",
       "0     Esterinportti        1747.0            401.0          0.261397   \n",
       "1       Kasarmitori        1447.0            869.0          0.099908   \n",
       "2       Agnetankuja        1772.0            469.0          0.226695   \n",
       "3   Korppaanmäentie        7456.0           2406.0          0.185935   \n",
       "4  Vilhonvuorenkatu        7120.0           1679.0          0.254437   \n",
       "\n",
       "   Air temperature (degC)  \n",
       "0                     0.9  \n",
       "1                     0.9  \n",
       "2                     0.9  \n",
       "3                     0.9  \n",
       "4                     0.9  "
      ],
      "text/html": "<div>\n<style scoped>\n    .dataframe tbody tr th:only-of-type {\n        vertical-align: middle;\n    }\n\n    .dataframe tbody tr th {\n        vertical-align: top;\n    }\n\n    .dataframe thead th {\n        text-align: right;\n    }\n</style>\n<table border=\"1\" class=\"dataframe\">\n  <thead>\n    <tr style=\"text-align: right;\">\n      <th></th>\n      <th>departure</th>\n      <th>return</th>\n      <th>departure_name</th>\n      <th>return_name</th>\n      <th>distance (m)</th>\n      <th>duration (sec.)</th>\n      <th>avg_speed (km/h)</th>\n      <th>Air temperature (degC)</th>\n    </tr>\n  </thead>\n  <tbody>\n    <tr>\n      <th>0</th>\n      <td>2020-03-23 06:09:44</td>\n      <td>2020-03-23 06:16:26</td>\n      <td>Kuusitie</td>\n      <td>Esterinportti</td>\n      <td>1747.0</td>\n      <td>401.0</td>\n      <td>0.261397</td>\n      <td>0.9</td>\n    </tr>\n    <tr>\n      <th>1</th>\n      <td>2020-03-23 06:11:58</td>\n      <td>2020-03-23 06:26:31</td>\n      <td>Kamppi (M)</td>\n      <td>Kasarmitori</td>\n      <td>1447.0</td>\n      <td>869.0</td>\n      <td>0.099908</td>\n      <td>0.9</td>\n    </tr>\n    <tr>\n      <th>2</th>\n      <td>2020-03-23 06:16:29</td>\n      <td>2020-03-23 06:24:23</td>\n      <td>Porolahden koulu</td>\n      <td>Agnetankuja</td>\n      <td>1772.0</td>\n      <td>469.0</td>\n      <td>0.226695</td>\n      <td>0.9</td>\n    </tr>\n    <tr>\n      <th>3</th>\n      <td>2020-03-23 06:33:53</td>\n      <td>2020-03-23 07:14:03</td>\n      <td>Vallipolku</td>\n      <td>Korppaanmäentie</td>\n      <td>7456.0</td>\n      <td>2406.0</td>\n      <td>0.185935</td>\n      <td>0.9</td>\n    </tr>\n    <tr>\n      <th>4</th>\n      <td>2020-03-23 06:36:09</td>\n      <td>2020-03-23 07:04:10</td>\n      <td>Länsisatamankatu</td>\n      <td>Vilhonvuorenkatu</td>\n      <td>7120.0</td>\n      <td>1679.0</td>\n      <td>0.254437</td>\n      <td>0.9</td>\n    </tr>\n  </tbody>\n</table>\n</div>"
     },
     "metadata": {},
     "execution_count": 5
    }
   ],
   "source": [
    "data.head()"
   ]
  },
  {
   "cell_type": "code",
   "execution_count": 6,
   "metadata": {},
   "outputs": [
    {
     "output_type": "execute_result",
     "data": {
      "text/plain": [
       "       distance (m)  duration (sec.)  avg_speed (km/h)  Air temperature (degC)\n",
       "count  1.215746e+07     1.215746e+07      1.215391e+07            1.214156e+07\n",
       "mean   2.295275e+03     9.597751e+02      3.355556e-01            1.565044e+01\n",
       "std    2.452067e+04     7.346528e+03      3.428006e+01            5.497952e+00\n",
       "min   -4.292467e+06     0.000000e+00     -4.689001e+02           -5.200000e+00\n",
       "25%    1.000000e+03     3.440000e+02      1.467403e-01            1.230000e+01\n",
       "50%    1.739000e+03     5.860000e+02      1.863679e-01            1.640000e+01\n",
       "75%    2.869000e+03     9.710000e+02      2.204348e-01            1.930000e+01\n",
       "max    3.681399e+06     5.401659e+06      1.699104e+04            3.290000e+01"
      ],
      "text/html": "<div>\n<style scoped>\n    .dataframe tbody tr th:only-of-type {\n        vertical-align: middle;\n    }\n\n    .dataframe tbody tr th {\n        vertical-align: top;\n    }\n\n    .dataframe thead th {\n        text-align: right;\n    }\n</style>\n<table border=\"1\" class=\"dataframe\">\n  <thead>\n    <tr style=\"text-align: right;\">\n      <th></th>\n      <th>distance (m)</th>\n      <th>duration (sec.)</th>\n      <th>avg_speed (km/h)</th>\n      <th>Air temperature (degC)</th>\n    </tr>\n  </thead>\n  <tbody>\n    <tr>\n      <th>count</th>\n      <td>1.215746e+07</td>\n      <td>1.215746e+07</td>\n      <td>1.215391e+07</td>\n      <td>1.214156e+07</td>\n    </tr>\n    <tr>\n      <th>mean</th>\n      <td>2.295275e+03</td>\n      <td>9.597751e+02</td>\n      <td>3.355556e-01</td>\n      <td>1.565044e+01</td>\n    </tr>\n    <tr>\n      <th>std</th>\n      <td>2.452067e+04</td>\n      <td>7.346528e+03</td>\n      <td>3.428006e+01</td>\n      <td>5.497952e+00</td>\n    </tr>\n    <tr>\n      <th>min</th>\n      <td>-4.292467e+06</td>\n      <td>0.000000e+00</td>\n      <td>-4.689001e+02</td>\n      <td>-5.200000e+00</td>\n    </tr>\n    <tr>\n      <th>25%</th>\n      <td>1.000000e+03</td>\n      <td>3.440000e+02</td>\n      <td>1.467403e-01</td>\n      <td>1.230000e+01</td>\n    </tr>\n    <tr>\n      <th>50%</th>\n      <td>1.739000e+03</td>\n      <td>5.860000e+02</td>\n      <td>1.863679e-01</td>\n      <td>1.640000e+01</td>\n    </tr>\n    <tr>\n      <th>75%</th>\n      <td>2.869000e+03</td>\n      <td>9.710000e+02</td>\n      <td>2.204348e-01</td>\n      <td>1.930000e+01</td>\n    </tr>\n    <tr>\n      <th>max</th>\n      <td>3.681399e+06</td>\n      <td>5.401659e+06</td>\n      <td>1.699104e+04</td>\n      <td>3.290000e+01</td>\n    </tr>\n  </tbody>\n</table>\n</div>"
     },
     "metadata": {},
     "execution_count": 6
    }
   ],
   "source": [
    "data.describe()"
   ]
  },
  {
   "cell_type": "code",
   "execution_count": 7,
   "metadata": {},
   "outputs": [
    {
     "output_type": "execute_result",
     "data": {
      "text/plain": [
       "Index(['departure', 'return', 'departure_name', 'return_name', 'distance (m)',\n",
       "       'duration (sec.)', 'avg_speed (km/h)', 'Air temperature (degC)'],\n",
       "      dtype='object')"
      ]
     },
     "metadata": {},
     "execution_count": 7
    }
   ],
   "source": [
    "data.columns"
   ]
  },
  {
   "source": [
    "## Rename column names"
   ],
   "cell_type": "markdown",
   "metadata": {}
  },
  {
   "cell_type": "code",
   "execution_count": 5,
   "metadata": {},
   "outputs": [],
   "source": [
    "data.rename(columns={\n",
    "    'distance (m)' : 'distance',\n",
    "    'duration (sec.)' : 'duration',\n",
    "    'avg_speed (km/h)' : 'avg_speed',\n",
    "    'Air temperature (degC)' : 'temperature'\n",
    "}, inplace=True)"
   ]
  },
  {
   "cell_type": "code",
   "execution_count": 9,
   "metadata": {},
   "outputs": [
    {
     "output_type": "execute_result",
     "data": {
      "text/plain": [
       "departure          object\n",
       "return             object\n",
       "departure_name     object\n",
       "return_name        object\n",
       "distance          float64\n",
       "duration          float64\n",
       "avg_speed         float64\n",
       "temperature       float64\n",
       "dtype: object"
      ]
     },
     "metadata": {},
     "execution_count": 9
    }
   ],
   "source": [
    "data.dtypes"
   ]
  },
  {
   "source": [
    "## Change datatypes to dates"
   ],
   "cell_type": "markdown",
   "metadata": {}
  },
  {
   "cell_type": "code",
   "execution_count": 6,
   "metadata": {},
   "outputs": [],
   "source": [
    "data['departure'] = pd.to_datetime(data['departure'])\n",
    "data['return'] = pd.to_datetime(data['return'])"
   ]
  },
  {
   "cell_type": "code",
   "execution_count": 11,
   "metadata": {},
   "outputs": [
    {
     "output_type": "execute_result",
     "data": {
      "text/plain": [
       "            departure              return      departure_name  \\\n",
       "0 2020-03-23 06:09:44 2020-03-23 06:16:26            Kuusitie   \n",
       "1 2020-03-23 06:11:58 2020-03-23 06:26:31          Kamppi (M)   \n",
       "2 2020-03-23 06:16:29 2020-03-23 06:24:23    Porolahden koulu   \n",
       "3 2020-03-23 06:33:53 2020-03-23 07:14:03          Vallipolku   \n",
       "4 2020-03-23 06:36:09 2020-03-23 07:04:10    Länsisatamankatu   \n",
       "5 2020-03-23 06:37:52 2020-03-23 06:58:56           Radiokatu   \n",
       "6 2020-03-23 06:39:51 2020-03-23 06:45:30     Tyynenmerenkatu   \n",
       "7 2020-03-23 06:44:37 2020-03-24 12:02:19        Itämerentori   \n",
       "8 2020-03-23 06:47:18 2020-03-23 07:01:09         Koskelantie   \n",
       "9 2020-03-23 06:47:22 2020-03-23 06:56:22  Rautatieläisenkatu   \n",
       "\n",
       "           return_name  distance  duration  avg_speed  temperature  \n",
       "0        Esterinportti    1747.0     401.0   0.261397          0.9  \n",
       "1          Kasarmitori    1447.0     869.0   0.099908          0.9  \n",
       "2          Agnetankuja    1772.0     469.0   0.226695          0.9  \n",
       "3      Korppaanmäentie    7456.0    2406.0   0.185935          0.9  \n",
       "4     Vilhonvuorenkatu    7120.0    1679.0   0.254437          0.9  \n",
       "5            Porthania    5169.0    1262.0   0.245753          0.9  \n",
       "6      Hietalahdentori    1194.0     335.0   0.213851          0.9  \n",
       "7   Meilahden sairaala    3651.0    1195.0   0.183314          0.9  \n",
       "8       Kalasatama (M)    3120.0     827.0   0.226360          0.9  \n",
       "9  A.I. Virtasen aukio    2070.0     535.0   0.232150          0.9  "
      ],
      "text/html": "<div>\n<style scoped>\n    .dataframe tbody tr th:only-of-type {\n        vertical-align: middle;\n    }\n\n    .dataframe tbody tr th {\n        vertical-align: top;\n    }\n\n    .dataframe thead th {\n        text-align: right;\n    }\n</style>\n<table border=\"1\" class=\"dataframe\">\n  <thead>\n    <tr style=\"text-align: right;\">\n      <th></th>\n      <th>departure</th>\n      <th>return</th>\n      <th>departure_name</th>\n      <th>return_name</th>\n      <th>distance</th>\n      <th>duration</th>\n      <th>avg_speed</th>\n      <th>temperature</th>\n    </tr>\n  </thead>\n  <tbody>\n    <tr>\n      <th>0</th>\n      <td>2020-03-23 06:09:44</td>\n      <td>2020-03-23 06:16:26</td>\n      <td>Kuusitie</td>\n      <td>Esterinportti</td>\n      <td>1747.0</td>\n      <td>401.0</td>\n      <td>0.261397</td>\n      <td>0.9</td>\n    </tr>\n    <tr>\n      <th>1</th>\n      <td>2020-03-23 06:11:58</td>\n      <td>2020-03-23 06:26:31</td>\n      <td>Kamppi (M)</td>\n      <td>Kasarmitori</td>\n      <td>1447.0</td>\n      <td>869.0</td>\n      <td>0.099908</td>\n      <td>0.9</td>\n    </tr>\n    <tr>\n      <th>2</th>\n      <td>2020-03-23 06:16:29</td>\n      <td>2020-03-23 06:24:23</td>\n      <td>Porolahden koulu</td>\n      <td>Agnetankuja</td>\n      <td>1772.0</td>\n      <td>469.0</td>\n      <td>0.226695</td>\n      <td>0.9</td>\n    </tr>\n    <tr>\n      <th>3</th>\n      <td>2020-03-23 06:33:53</td>\n      <td>2020-03-23 07:14:03</td>\n      <td>Vallipolku</td>\n      <td>Korppaanmäentie</td>\n      <td>7456.0</td>\n      <td>2406.0</td>\n      <td>0.185935</td>\n      <td>0.9</td>\n    </tr>\n    <tr>\n      <th>4</th>\n      <td>2020-03-23 06:36:09</td>\n      <td>2020-03-23 07:04:10</td>\n      <td>Länsisatamankatu</td>\n      <td>Vilhonvuorenkatu</td>\n      <td>7120.0</td>\n      <td>1679.0</td>\n      <td>0.254437</td>\n      <td>0.9</td>\n    </tr>\n    <tr>\n      <th>5</th>\n      <td>2020-03-23 06:37:52</td>\n      <td>2020-03-23 06:58:56</td>\n      <td>Radiokatu</td>\n      <td>Porthania</td>\n      <td>5169.0</td>\n      <td>1262.0</td>\n      <td>0.245753</td>\n      <td>0.9</td>\n    </tr>\n    <tr>\n      <th>6</th>\n      <td>2020-03-23 06:39:51</td>\n      <td>2020-03-23 06:45:30</td>\n      <td>Tyynenmerenkatu</td>\n      <td>Hietalahdentori</td>\n      <td>1194.0</td>\n      <td>335.0</td>\n      <td>0.213851</td>\n      <td>0.9</td>\n    </tr>\n    <tr>\n      <th>7</th>\n      <td>2020-03-23 06:44:37</td>\n      <td>2020-03-24 12:02:19</td>\n      <td>Itämerentori</td>\n      <td>Meilahden sairaala</td>\n      <td>3651.0</td>\n      <td>1195.0</td>\n      <td>0.183314</td>\n      <td>0.9</td>\n    </tr>\n    <tr>\n      <th>8</th>\n      <td>2020-03-23 06:47:18</td>\n      <td>2020-03-23 07:01:09</td>\n      <td>Koskelantie</td>\n      <td>Kalasatama (M)</td>\n      <td>3120.0</td>\n      <td>827.0</td>\n      <td>0.226360</td>\n      <td>0.9</td>\n    </tr>\n    <tr>\n      <th>9</th>\n      <td>2020-03-23 06:47:22</td>\n      <td>2020-03-23 06:56:22</td>\n      <td>Rautatieläisenkatu</td>\n      <td>A.I. Virtasen aukio</td>\n      <td>2070.0</td>\n      <td>535.0</td>\n      <td>0.232150</td>\n      <td>0.9</td>\n    </tr>\n  </tbody>\n</table>\n</div>"
     },
     "metadata": {},
     "execution_count": 11
    }
   ],
   "source": [
    "data.head(10)"
   ]
  },
  {
   "source": [
    "## Multiply avg_speed column by 100 to get meaningful values"
   ],
   "cell_type": "markdown",
   "metadata": {}
  },
  {
   "cell_type": "code",
   "execution_count": 7,
   "metadata": {},
   "outputs": [],
   "source": [
    "data['avg_speed'] *= 100"
   ]
  },
  {
   "cell_type": "code",
   "execution_count": 14,
   "metadata": {},
   "outputs": [
    {
     "output_type": "stream",
     "name": "stdout",
     "text": [
      "Length of the dataset before removal of usunal data points: 12157458\n"
     ]
    }
   ],
   "source": [
    "data_len = len(data.index)\n",
    "print(f\"Length of the dataset before removal of usunal data points: {data_len}\")\n",
    "\n",
    "data.drop(data[((data.distance <= 0) | (data.avg_speed <= 0))].index, inplace=True)"
   ]
  },
  {
   "cell_type": "code",
   "execution_count": 15,
   "metadata": {},
   "outputs": [
    {
     "output_type": "execute_result",
     "data": {
      "text/plain": [
       "      distance  duration  avg_speed\n",
       "0.05     453.0     164.0   5.671378\n",
       "0.25    1057.0     360.0  15.166987\n",
       "0.50    1794.0     600.0  18.844737\n",
       "0.75    2924.0     983.0  22.166667\n",
       "0.95    5298.0    1680.0  26.868750"
      ],
      "text/html": "<div>\n<style scoped>\n    .dataframe tbody tr th:only-of-type {\n        vertical-align: middle;\n    }\n\n    .dataframe tbody tr th {\n        vertical-align: top;\n    }\n\n    .dataframe thead th {\n        text-align: right;\n    }\n</style>\n<table border=\"1\" class=\"dataframe\">\n  <thead>\n    <tr style=\"text-align: right;\">\n      <th></th>\n      <th>distance</th>\n      <th>duration</th>\n      <th>avg_speed</th>\n    </tr>\n  </thead>\n  <tbody>\n    <tr>\n      <th>0.05</th>\n      <td>453.0</td>\n      <td>164.0</td>\n      <td>5.671378</td>\n    </tr>\n    <tr>\n      <th>0.25</th>\n      <td>1057.0</td>\n      <td>360.0</td>\n      <td>15.166987</td>\n    </tr>\n    <tr>\n      <th>0.50</th>\n      <td>1794.0</td>\n      <td>600.0</td>\n      <td>18.844737</td>\n    </tr>\n    <tr>\n      <th>0.75</th>\n      <td>2924.0</td>\n      <td>983.0</td>\n      <td>22.166667</td>\n    </tr>\n    <tr>\n      <th>0.95</th>\n      <td>5298.0</td>\n      <td>1680.0</td>\n      <td>26.868750</td>\n    </tr>\n  </tbody>\n</table>\n</div>"
     },
     "metadata": {},
     "execution_count": 15
    }
   ],
   "source": [
    "quantiles = data[['distance', 'duration', 'avg_speed']].quantile([0.05, 0.25, 0.5, 0.75, 0.95])\n",
    "quantiles"
   ]
  },
  {
   "cell_type": "code",
   "execution_count": 16,
   "metadata": {},
   "outputs": [
    {
     "output_type": "stream",
     "name": "stdout",
     "text": [
      "Length of the dataset after removal of usunal data points: 9604122\nRemoved 2553336 entries.\n"
     ]
    }
   ],
   "source": [
    "for col in ['distance', 'duration', 'avg_speed']:\n",
    "    data.drop(data[\n",
    "        (data[col] < quantiles.loc[0.05][col]) | (data[col] > quantiles.loc[0.95][col])\n",
    "    ].index, inplace=True)\n",
    "\n",
    "data.reset_index(drop=True, inplace=True)\n",
    "print(f\"Length of the dataset after removal of usunal data points: {len(data.index)}\")\n",
    "print(f\"Removed {data_len - len(data.index)} entries.\")"
   ]
  },
  {
   "cell_type": "markdown",
   "metadata": {},
   "source": [
    "## Detect outliers from the dataset and remove them"
   ]
  },
  {
   "cell_type": "code",
   "execution_count": 20,
   "metadata": {},
   "outputs": [],
   "source": [
    "# Map -1 to True and 1 to False for outliers\n",
    "converter = lambda val: True if val == -1 else False"
   ]
  },
  {
   "cell_type": "code",
   "execution_count": 21,
   "metadata": {},
   "outputs": [],
   "source": [
    "# !!! The outlier detection takes a lot of RAM and time and depends on your hardware.\n",
    "\n",
    "clf = LocalOutlierFactor(n_neighbors=30, n_jobs=-1)\n",
    "outlier_array = clf.fit_predict(data[['distance', 'duration', 'avg_speed']])\n",
    "\n",
    "outliers = np.array([converter(val) for val in outlier_array])"
   ]
  },
  {
   "cell_type": "code",
   "execution_count": 22,
   "metadata": {},
   "outputs": [
    {
     "output_type": "stream",
     "name": "stdout",
     "text": [
      "Detected 285739 (2.98%) outliers in the dataset!\n"
     ]
    },
    {
     "output_type": "execute_result",
     "data": {
      "text/plain": [
       "               departure              return             departure_name  \\\n",
       "8    2020-03-23 06:53:10 2020-03-23 07:00:38                 Töölönkatu   \n",
       "80   2020-03-23 08:19:21 2020-03-23 08:23:02  Leppävaaran urheilupuisto   \n",
       "111  2020-03-23 08:46:52 2020-03-23 08:52:05            Herttoniemi (M)   \n",
       "158  2020-03-23 09:32:37 2020-03-23 09:39:10                 Intiankatu   \n",
       "322  2020-03-23 12:00:41 2020-03-23 12:07:44                 Kamppi (M)   \n",
       "353  2020-03-23 12:23:57 2020-03-23 12:29:16      Laivalahden puistotie   \n",
       "370  2020-03-23 12:36:34 2020-03-23 12:42:25                 Töölönkatu   \n",
       "371  2020-03-23 12:36:50 2020-03-23 12:42:32                 Töölönkatu   \n",
       "373  2020-03-23 12:37:29 2020-03-23 12:44:15            Sammonpuistikko   \n",
       "412  2020-03-23 13:03:40 2020-03-23 13:07:04          Kauppakorkeakoulu   \n",
       "676  2020-03-23 15:15:32 2020-03-23 15:20:17                  Vallikatu   \n",
       "677  2020-03-23 15:16:03 2020-03-23 15:23:19             Friisilänaukio   \n",
       "961  2020-03-23 16:32:15 2020-03-23 16:37:43                 Roihupelto   \n",
       "967  2020-03-23 16:33:41 2020-03-23 16:37:56                Gyldenintie   \n",
       "1005 2020-03-23 16:42:35 2020-03-23 16:47:58                     Säteri   \n",
       "1018 2020-03-23 16:45:47 2020-03-23 16:50:18                    Outotec   \n",
       "1072 2020-03-23 16:57:37 2020-03-23 17:03:37                  Läkkitori   \n",
       "1123 2020-03-23 17:09:37 2020-03-23 17:14:14               Kirjurinkuja   \n",
       "1240 2020-03-23 17:36:53 2020-03-23 17:40:24                      Baana   \n",
       "1281 2020-03-23 17:43:12 2020-03-23 17:48:11            Velodrominrinne   \n",
       "\n",
       "                return_name  distance  duration  avg_speed  temperature  \n",
       "8       Rautatientori / itä    1418.0     447.0   0.190336          0.9  \n",
       "80             Muurarinkuja     646.0     220.0   0.176182          1.5  \n",
       "111   Laivalahden puistotie     808.0     309.0   0.156893          1.5  \n",
       "158          Paavalinpuisto    1190.0     388.0   0.184021          1.9  \n",
       "322          Perämiehenkatu    1176.0     418.0   0.168804          3.3  \n",
       "353         Herttoniemi (M)     810.0     316.0   0.153797          3.3  \n",
       "370         Mannerheimintie    1160.0     349.0   0.199427          3.3  \n",
       "371         Mannerheimintie    1152.0     341.0   0.202698          3.3  \n",
       "373             Lastenlehto    1092.0     403.0   0.162581          3.3  \n",
       "412          Kansallismuseo     615.0     202.0   0.182673          4.0  \n",
       "676      Leppävaarankäytävä     993.0     283.0   0.210530          3.1  \n",
       "677            Piispansilta    1375.0     435.0   0.189655          3.1  \n",
       "961            Siilitie (M)     878.0     324.0   0.162593          3.2  \n",
       "967          Heikkilänaukio     657.0     249.0   0.158313          3.2  \n",
       "1005              Läkkitori    1062.0     321.0   0.198505          3.2  \n",
       "1018           Komeetankatu     805.0     268.0   0.180224          3.2  \n",
       "1072           Kirjurinkuja    1279.0     353.0   0.217394          3.2  \n",
       "1123       Leppävaaranaukio     989.0     275.0   0.215782          3.1  \n",
       "1240           Itämerentori     505.0     209.0   0.144976          3.1  \n",
       "1281            Koskelantie     983.0     296.0   0.199257          3.1  "
      ],
      "text/html": "<div>\n<style scoped>\n    .dataframe tbody tr th:only-of-type {\n        vertical-align: middle;\n    }\n\n    .dataframe tbody tr th {\n        vertical-align: top;\n    }\n\n    .dataframe thead th {\n        text-align: right;\n    }\n</style>\n<table border=\"1\" class=\"dataframe\">\n  <thead>\n    <tr style=\"text-align: right;\">\n      <th></th>\n      <th>departure</th>\n      <th>return</th>\n      <th>departure_name</th>\n      <th>return_name</th>\n      <th>distance</th>\n      <th>duration</th>\n      <th>avg_speed</th>\n      <th>temperature</th>\n    </tr>\n  </thead>\n  <tbody>\n    <tr>\n      <th>8</th>\n      <td>2020-03-23 06:53:10</td>\n      <td>2020-03-23 07:00:38</td>\n      <td>Töölönkatu</td>\n      <td>Rautatientori / itä</td>\n      <td>1418.0</td>\n      <td>447.0</td>\n      <td>0.190336</td>\n      <td>0.9</td>\n    </tr>\n    <tr>\n      <th>80</th>\n      <td>2020-03-23 08:19:21</td>\n      <td>2020-03-23 08:23:02</td>\n      <td>Leppävaaran urheilupuisto</td>\n      <td>Muurarinkuja</td>\n      <td>646.0</td>\n      <td>220.0</td>\n      <td>0.176182</td>\n      <td>1.5</td>\n    </tr>\n    <tr>\n      <th>111</th>\n      <td>2020-03-23 08:46:52</td>\n      <td>2020-03-23 08:52:05</td>\n      <td>Herttoniemi (M)</td>\n      <td>Laivalahden puistotie</td>\n      <td>808.0</td>\n      <td>309.0</td>\n      <td>0.156893</td>\n      <td>1.5</td>\n    </tr>\n    <tr>\n      <th>158</th>\n      <td>2020-03-23 09:32:37</td>\n      <td>2020-03-23 09:39:10</td>\n      <td>Intiankatu</td>\n      <td>Paavalinpuisto</td>\n      <td>1190.0</td>\n      <td>388.0</td>\n      <td>0.184021</td>\n      <td>1.9</td>\n    </tr>\n    <tr>\n      <th>322</th>\n      <td>2020-03-23 12:00:41</td>\n      <td>2020-03-23 12:07:44</td>\n      <td>Kamppi (M)</td>\n      <td>Perämiehenkatu</td>\n      <td>1176.0</td>\n      <td>418.0</td>\n      <td>0.168804</td>\n      <td>3.3</td>\n    </tr>\n    <tr>\n      <th>353</th>\n      <td>2020-03-23 12:23:57</td>\n      <td>2020-03-23 12:29:16</td>\n      <td>Laivalahden puistotie</td>\n      <td>Herttoniemi (M)</td>\n      <td>810.0</td>\n      <td>316.0</td>\n      <td>0.153797</td>\n      <td>3.3</td>\n    </tr>\n    <tr>\n      <th>370</th>\n      <td>2020-03-23 12:36:34</td>\n      <td>2020-03-23 12:42:25</td>\n      <td>Töölönkatu</td>\n      <td>Mannerheimintie</td>\n      <td>1160.0</td>\n      <td>349.0</td>\n      <td>0.199427</td>\n      <td>3.3</td>\n    </tr>\n    <tr>\n      <th>371</th>\n      <td>2020-03-23 12:36:50</td>\n      <td>2020-03-23 12:42:32</td>\n      <td>Töölönkatu</td>\n      <td>Mannerheimintie</td>\n      <td>1152.0</td>\n      <td>341.0</td>\n      <td>0.202698</td>\n      <td>3.3</td>\n    </tr>\n    <tr>\n      <th>373</th>\n      <td>2020-03-23 12:37:29</td>\n      <td>2020-03-23 12:44:15</td>\n      <td>Sammonpuistikko</td>\n      <td>Lastenlehto</td>\n      <td>1092.0</td>\n      <td>403.0</td>\n      <td>0.162581</td>\n      <td>3.3</td>\n    </tr>\n    <tr>\n      <th>412</th>\n      <td>2020-03-23 13:03:40</td>\n      <td>2020-03-23 13:07:04</td>\n      <td>Kauppakorkeakoulu</td>\n      <td>Kansallismuseo</td>\n      <td>615.0</td>\n      <td>202.0</td>\n      <td>0.182673</td>\n      <td>4.0</td>\n    </tr>\n    <tr>\n      <th>676</th>\n      <td>2020-03-23 15:15:32</td>\n      <td>2020-03-23 15:20:17</td>\n      <td>Vallikatu</td>\n      <td>Leppävaarankäytävä</td>\n      <td>993.0</td>\n      <td>283.0</td>\n      <td>0.210530</td>\n      <td>3.1</td>\n    </tr>\n    <tr>\n      <th>677</th>\n      <td>2020-03-23 15:16:03</td>\n      <td>2020-03-23 15:23:19</td>\n      <td>Friisilänaukio</td>\n      <td>Piispansilta</td>\n      <td>1375.0</td>\n      <td>435.0</td>\n      <td>0.189655</td>\n      <td>3.1</td>\n    </tr>\n    <tr>\n      <th>961</th>\n      <td>2020-03-23 16:32:15</td>\n      <td>2020-03-23 16:37:43</td>\n      <td>Roihupelto</td>\n      <td>Siilitie (M)</td>\n      <td>878.0</td>\n      <td>324.0</td>\n      <td>0.162593</td>\n      <td>3.2</td>\n    </tr>\n    <tr>\n      <th>967</th>\n      <td>2020-03-23 16:33:41</td>\n      <td>2020-03-23 16:37:56</td>\n      <td>Gyldenintie</td>\n      <td>Heikkilänaukio</td>\n      <td>657.0</td>\n      <td>249.0</td>\n      <td>0.158313</td>\n      <td>3.2</td>\n    </tr>\n    <tr>\n      <th>1005</th>\n      <td>2020-03-23 16:42:35</td>\n      <td>2020-03-23 16:47:58</td>\n      <td>Säteri</td>\n      <td>Läkkitori</td>\n      <td>1062.0</td>\n      <td>321.0</td>\n      <td>0.198505</td>\n      <td>3.2</td>\n    </tr>\n    <tr>\n      <th>1018</th>\n      <td>2020-03-23 16:45:47</td>\n      <td>2020-03-23 16:50:18</td>\n      <td>Outotec</td>\n      <td>Komeetankatu</td>\n      <td>805.0</td>\n      <td>268.0</td>\n      <td>0.180224</td>\n      <td>3.2</td>\n    </tr>\n    <tr>\n      <th>1072</th>\n      <td>2020-03-23 16:57:37</td>\n      <td>2020-03-23 17:03:37</td>\n      <td>Läkkitori</td>\n      <td>Kirjurinkuja</td>\n      <td>1279.0</td>\n      <td>353.0</td>\n      <td>0.217394</td>\n      <td>3.2</td>\n    </tr>\n    <tr>\n      <th>1123</th>\n      <td>2020-03-23 17:09:37</td>\n      <td>2020-03-23 17:14:14</td>\n      <td>Kirjurinkuja</td>\n      <td>Leppävaaranaukio</td>\n      <td>989.0</td>\n      <td>275.0</td>\n      <td>0.215782</td>\n      <td>3.1</td>\n    </tr>\n    <tr>\n      <th>1240</th>\n      <td>2020-03-23 17:36:53</td>\n      <td>2020-03-23 17:40:24</td>\n      <td>Baana</td>\n      <td>Itämerentori</td>\n      <td>505.0</td>\n      <td>209.0</td>\n      <td>0.144976</td>\n      <td>3.1</td>\n    </tr>\n    <tr>\n      <th>1281</th>\n      <td>2020-03-23 17:43:12</td>\n      <td>2020-03-23 17:48:11</td>\n      <td>Velodrominrinne</td>\n      <td>Koskelantie</td>\n      <td>983.0</td>\n      <td>296.0</td>\n      <td>0.199257</td>\n      <td>3.1</td>\n    </tr>\n  </tbody>\n</table>\n</div>"
     },
     "metadata": {},
     "execution_count": 22
    }
   ],
   "source": [
    "print(f\"Detected {len(data[outliers])} ({round(len(data[outliers]) / len(data) * 100, 2)}%) outliers in the dataset!\")\n",
    "data[outliers].head(20)"
   ]
  },
  {
   "cell_type": "code",
   "execution_count": 23,
   "metadata": {},
   "outputs": [
    {
     "output_type": "stream",
     "name": "stdout",
     "text": [
      "Data before removal of outliers has 9604122 rows.\n",
      "Data after removal of outliers has 9318383 rows.\n"
     ]
    }
   ],
   "source": [
    "print(f\"Data before removal of outliers has {len(data.index)} rows.\")\n",
    "data.drop(data[outliers].index, inplace=True)\n",
    "data.reset_index(drop=True, inplace=True)\n",
    "print(f\"Data after removal of outliers has {len(data.index)} rows.\")"
   ]
  },
  {
   "cell_type": "markdown",
   "metadata": {},
   "source": [
    "## Create HTML report of the dataset in out/ directory"
   ]
  },
  {
   "cell_type": "code",
   "execution_count": 17,
   "metadata": {},
   "outputs": [
    {
     "output_type": "stream",
     "name": "stderr",
     "text": [
      "Summarize dataset: 100%|██████████| 16/16 [00:25<00:00,  1.57s/it, Completed]\n",
      "Generate report structure: 100%|██████████| 1/1 [00:01<00:00,  1.83s/it]\n",
      "Render HTML: 100%|██████████| 1/1 [00:00<00:00,  2.96it/s]\n",
      "Export report to file: 100%|██████████| 1/1 [00:00<00:00, 932.69it/s]\n"
     ]
    }
   ],
   "source": [
    "# !!! Full profiling takes a lot of time and big chunk of RAM; Uncomment the next line to run full profiler that includes correlations between attributes\n",
    "\n",
    "# profile = ProfileReport(data, title='Helsinki City Bikes').to_file(output_path + 'full_bikes.html')\n",
    "ProfileReport(data, title='Helsinki City Bikes', minimal=True).to_file(output_path + 'partial_bikes.html')"
   ]
  },
  {
   "cell_type": "code",
   "execution_count": 18,
   "metadata": {},
   "outputs": [
    {
     "output_type": "execute_result",
     "data": {
      "text/plain": [
       "departure_name\n",
       "Itämerentori              269862\n",
       "Töölönlahdenkatu          202555\n",
       "Kamppi (M)                164966\n",
       "Rautatientori / länsi     143564\n",
       "Ympyrätalo                140941\n",
       "                           ...  \n",
       "Kutsuntatie                 1734\n",
       "Haakoninlahdenkatu          1718\n",
       "Itäkeskus Metrovarikko      1083\n",
       "Outotec                      814\n",
       "Derby Business Park          243\n",
       "Length: 347, dtype: int64"
      ]
     },
     "metadata": {},
     "execution_count": 18
    }
   ],
   "source": [
    "data.groupby(by='departure_name').size().sort_values(ascending=False)"
   ]
  },
  {
   "cell_type": "code",
   "execution_count": 8,
   "metadata": {},
   "outputs": [],
   "source": [
    "def replace_comma(val: str):\n",
    "    return ' / '.join(val.split(', '))\n",
    "\n",
    "replaced = data[data['departure_name'].str.contains(',')]['departure_name'].map(replace_comma)\n",
    "data.loc[replaced.index, 'departure_name'] = replaced"
   ]
  },
  {
   "source": [
    "## Export unique station names to file"
   ],
   "cell_type": "markdown",
   "metadata": {}
  },
  {
   "cell_type": "code",
   "execution_count": 19,
   "metadata": {},
   "outputs": [],
   "source": [
    "pd.Series(data['departure_name'].unique()).to_csv(data_path + 'stations.csv', header=['name'])"
   ]
  },
  {
   "source": [
    "## Export cleaned dataset to file"
   ],
   "cell_type": "markdown",
   "metadata": {}
  },
  {
   "cell_type": "code",
   "execution_count": 22,
   "metadata": {},
   "outputs": [],
   "source": [
    "data.to_csv(path_or_buf=data_path + 'reduced.csv', index=False)"
   ]
  }
 ],
 "metadata": {
  "kernelspec": {
   "name": "python395jvsc74a57bd05a1fe3d1c50c11911509ab0348ab3f186d90ef0cd1f725492b7983e84a75f973",
   "display_name": "Python 3.9.5 64-bit ('dv': conda)"
  },
  "language_info": {
   "codemirror_mode": {
    "name": "ipython",
    "version": 3
   },
   "file_extension": ".py",
   "mimetype": "text/x-python",
   "name": "python",
   "nbconvert_exporter": "python",
   "pygments_lexer": "ipython3",
   "version": "3.9.5"
  },
  "metadata": {
   "interpreter": {
    "hash": "95321c224c287617fc7804e2e293caec215de425cca0178de3da1ce81558eb74"
   }
  }
 },
 "nbformat": 4,
 "nbformat_minor": 4
}