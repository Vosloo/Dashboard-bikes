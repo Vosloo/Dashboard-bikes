{
 "cells": [
  {
   "cell_type": "code",
   "execution_count": 1,
   "metadata": {},
   "outputs": [
    {
     "output_type": "error",
     "ename": "KeyboardInterrupt",
     "evalue": "",
     "traceback": [
      "\u001b[0;31m---------------------------------------------------------------------------\u001b[0m",
      "\u001b[0;31mKeyboardInterrupt\u001b[0m                         Traceback (most recent call last)",
      "\u001b[0;32m<ipython-input-1-9de700cde6be>\u001b[0m in \u001b[0;36m<module>\u001b[0;34m\u001b[0m\n\u001b[0;32m----> 1\u001b[0;31m \u001b[0;32mimport\u001b[0m \u001b[0mpandas\u001b[0m \u001b[0;32mas\u001b[0m \u001b[0mpd\u001b[0m\u001b[0;34m\u001b[0m\u001b[0;34m\u001b[0m\u001b[0m\n\u001b[0m\u001b[1;32m      2\u001b[0m \u001b[0;32mimport\u001b[0m \u001b[0mnumpy\u001b[0m \u001b[0;32mas\u001b[0m \u001b[0mnp\u001b[0m\u001b[0;34m\u001b[0m\u001b[0;34m\u001b[0m\u001b[0m\n\u001b[1;32m      3\u001b[0m \u001b[0;32mimport\u001b[0m \u001b[0mdatetime\u001b[0m\u001b[0;34m\u001b[0m\u001b[0;34m\u001b[0m\u001b[0m\n\u001b[1;32m      4\u001b[0m \u001b[0;34m\u001b[0m\u001b[0m\n\u001b[1;32m      5\u001b[0m \u001b[0;32mfrom\u001b[0m \u001b[0msklearn\u001b[0m\u001b[0;34m.\u001b[0m\u001b[0mneighbors\u001b[0m \u001b[0;32mimport\u001b[0m \u001b[0mLocalOutlierFactor\u001b[0m\u001b[0;34m\u001b[0m\u001b[0;34m\u001b[0m\u001b[0m\n",
      "\u001b[0;32m~/Programs/anaconda3/envs/dv/lib/python3.9/site-packages/pandas/__init__.py\u001b[0m in \u001b[0;36m<module>\u001b[0;34m\u001b[0m\n\u001b[1;32m      9\u001b[0m \u001b[0;32mfor\u001b[0m \u001b[0mdependency\u001b[0m \u001b[0;32min\u001b[0m \u001b[0mhard_dependencies\u001b[0m\u001b[0;34m:\u001b[0m\u001b[0;34m\u001b[0m\u001b[0;34m\u001b[0m\u001b[0m\n\u001b[1;32m     10\u001b[0m     \u001b[0;32mtry\u001b[0m\u001b[0;34m:\u001b[0m\u001b[0;34m\u001b[0m\u001b[0;34m\u001b[0m\u001b[0m\n\u001b[0;32m---> 11\u001b[0;31m         \u001b[0m__import__\u001b[0m\u001b[0;34m(\u001b[0m\u001b[0mdependency\u001b[0m\u001b[0;34m)\u001b[0m\u001b[0;34m\u001b[0m\u001b[0;34m\u001b[0m\u001b[0m\n\u001b[0m\u001b[1;32m     12\u001b[0m     \u001b[0;32mexcept\u001b[0m \u001b[0mImportError\u001b[0m \u001b[0;32mas\u001b[0m \u001b[0me\u001b[0m\u001b[0;34m:\u001b[0m\u001b[0;34m\u001b[0m\u001b[0;34m\u001b[0m\u001b[0m\n\u001b[1;32m     13\u001b[0m         \u001b[0mmissing_dependencies\u001b[0m\u001b[0;34m.\u001b[0m\u001b[0mappend\u001b[0m\u001b[0;34m(\u001b[0m\u001b[0;34mf\"{dependency}: {e}\"\u001b[0m\u001b[0;34m)\u001b[0m\u001b[0;34m\u001b[0m\u001b[0;34m\u001b[0m\u001b[0m\n",
      "\u001b[0;32m~/Programs/anaconda3/envs/dv/lib/python3.9/site-packages/numpy/__init__.py\u001b[0m in \u001b[0;36m<module>\u001b[0;34m\u001b[0m\n\u001b[1;32m    141\u001b[0m \u001b[0;34m\u001b[0m\u001b[0m\n\u001b[1;32m    142\u001b[0m     \u001b[0;31m# Allow distributors to run custom init code\u001b[0m\u001b[0;34m\u001b[0m\u001b[0;34m\u001b[0m\u001b[0;34m\u001b[0m\u001b[0m\n\u001b[0;32m--> 143\u001b[0;31m     \u001b[0;32mfrom\u001b[0m \u001b[0;34m.\u001b[0m \u001b[0;32mimport\u001b[0m \u001b[0m_distributor_init\u001b[0m\u001b[0;34m\u001b[0m\u001b[0;34m\u001b[0m\u001b[0m\n\u001b[0m\u001b[1;32m    144\u001b[0m \u001b[0;34m\u001b[0m\u001b[0m\n\u001b[1;32m    145\u001b[0m     \u001b[0;32mfrom\u001b[0m \u001b[0;34m.\u001b[0m \u001b[0;32mimport\u001b[0m \u001b[0mcore\u001b[0m\u001b[0;34m\u001b[0m\u001b[0;34m\u001b[0m\u001b[0m\n",
      "\u001b[0;32m~/Programs/anaconda3/envs/dv/lib/python3.9/site-packages/numpy/_distributor_init.py\u001b[0m in \u001b[0;36m<module>\u001b[0;34m\u001b[0m\n\u001b[1;32m     11\u001b[0m \u001b[0;34m\u001b[0m\u001b[0m\n\u001b[1;32m     12\u001b[0m \u001b[0;32mtry\u001b[0m\u001b[0;34m:\u001b[0m\u001b[0;34m\u001b[0m\u001b[0;34m\u001b[0m\u001b[0m\n\u001b[0;32m---> 13\u001b[0;31m     \u001b[0;32mimport\u001b[0m \u001b[0mmkl\u001b[0m\u001b[0;34m\u001b[0m\u001b[0;34m\u001b[0m\u001b[0m\n\u001b[0m\u001b[1;32m     14\u001b[0m \u001b[0;32mexcept\u001b[0m \u001b[0mImportError\u001b[0m\u001b[0;34m:\u001b[0m\u001b[0;34m\u001b[0m\u001b[0;34m\u001b[0m\u001b[0m\n\u001b[1;32m     15\u001b[0m     \u001b[0;32mimport\u001b[0m \u001b[0mwarnings\u001b[0m\u001b[0;34m\u001b[0m\u001b[0;34m\u001b[0m\u001b[0m\n",
      "\u001b[0;32m~/Programs/anaconda3/envs/dv/lib/python3.9/site-packages/mkl/__init__.py\u001b[0m in \u001b[0;36m<module>\u001b[0;34m\u001b[0m\n\u001b[1;32m     52\u001b[0m \u001b[0;32mdel\u001b[0m \u001b[0msys\u001b[0m\u001b[0;34m\u001b[0m\u001b[0;34m\u001b[0m\u001b[0m\n\u001b[1;32m     53\u001b[0m \u001b[0;34m\u001b[0m\u001b[0m\n\u001b[0;32m---> 54\u001b[0;31m \u001b[0;32mfrom\u001b[0m \u001b[0;34m.\u001b[0m\u001b[0m_py_mkl_service\u001b[0m \u001b[0;32mimport\u001b[0m \u001b[0;34m*\u001b[0m\u001b[0;34m\u001b[0m\u001b[0;34m\u001b[0m\u001b[0m\n\u001b[0m\u001b[1;32m     55\u001b[0m \u001b[0;34m\u001b[0m\u001b[0m\n\u001b[1;32m     56\u001b[0m \u001b[0;34m\u001b[0m\u001b[0m\n",
      "\u001b[0;32m~/Programs/anaconda3/envs/dv/lib/python3.9/importlib/_bootstrap.py\u001b[0m in \u001b[0;36mparent\u001b[0;34m(self)\u001b[0m\n",
      "\u001b[0;31mKeyboardInterrupt\u001b[0m: "
     ]
    }
   ],
   "source": [
    "import pandas as pd\n",
    "import numpy as np\n",
    "import datetime\n",
    "\n",
    "from sklearn.neighbors import LocalOutlierFactor\n",
    "from pandas_profiling import ProfileReport"
   ]
  },
  {
   "cell_type": "code",
   "execution_count": 2,
   "metadata": {},
   "outputs": [],
   "source": [
    "data_path = '../data/'\n",
    "output_path = '../out/'"
   ]
  },
  {
   "cell_type": "code",
   "execution_count": 3,
   "metadata": {},
   "outputs": [
    {
     "output_type": "stream",
     "name": "stderr",
     "text": [
      "/home/marek-szyd/Programs/anaconda3/envs/dv/lib/python3.9/site-packages/IPython/core/interactiveshell.py:3169: DtypeWarning: Columns (2,4) have mixed types.Specify dtype option on import or set low_memory=False.\n  has_raised = await self.run_ast_nodes(code_ast.body, cell_name,\n"
     ]
    }
   ],
   "source": [
    "data = pd.read_csv(data_path + 'bikes.csv')"
   ]
  },
  {
   "cell_type": "code",
   "execution_count": 4,
   "metadata": {},
   "outputs": [],
   "source": [
    "data.drop(\n",
    "    [\n",
    "        'departure_latitude', 'departure_longitude', 'return_latitude', 'return_longitude',\n",
    "        'departure_id', 'return_id'\n",
    "\n",
    "    ],\n",
    "    axis=1, inplace=True\n",
    ")"
   ]
  },
  {
   "cell_type": "code",
   "execution_count": 5,
   "metadata": {},
   "outputs": [
    {
     "output_type": "execute_result",
     "data": {
      "text/plain": [
       "             departure               return    departure_name  \\\n",
       "0  2020-03-23 06:09:44  2020-03-23 06:16:26          Kuusitie   \n",
       "1  2020-03-23 06:11:58  2020-03-23 06:26:31        Kamppi (M)   \n",
       "2  2020-03-23 06:16:29  2020-03-23 06:24:23  Porolahden koulu   \n",
       "3  2020-03-23 06:33:53  2020-03-23 07:14:03        Vallipolku   \n",
       "4  2020-03-23 06:36:09  2020-03-23 07:04:10  Länsisatamankatu   \n",
       "\n",
       "        return_name  distance (m)  duration (sec.)  avg_speed (km/h)  \\\n",
       "0     Esterinportti        1747.0            401.0          0.261397   \n",
       "1       Kasarmitori        1447.0            869.0          0.099908   \n",
       "2       Agnetankuja        1772.0            469.0          0.226695   \n",
       "3   Korppaanmäentie        7456.0           2406.0          0.185935   \n",
       "4  Vilhonvuorenkatu        7120.0           1679.0          0.254437   \n",
       "\n",
       "   Air temperature (degC)  \n",
       "0                     0.9  \n",
       "1                     0.9  \n",
       "2                     0.9  \n",
       "3                     0.9  \n",
       "4                     0.9  "
      ],
      "text/html": "<div>\n<style scoped>\n    .dataframe tbody tr th:only-of-type {\n        vertical-align: middle;\n    }\n\n    .dataframe tbody tr th {\n        vertical-align: top;\n    }\n\n    .dataframe thead th {\n        text-align: right;\n    }\n</style>\n<table border=\"1\" class=\"dataframe\">\n  <thead>\n    <tr style=\"text-align: right;\">\n      <th></th>\n      <th>departure</th>\n      <th>return</th>\n      <th>departure_name</th>\n      <th>return_name</th>\n      <th>distance (m)</th>\n      <th>duration (sec.)</th>\n      <th>avg_speed (km/h)</th>\n      <th>Air temperature (degC)</th>\n    </tr>\n  </thead>\n  <tbody>\n    <tr>\n      <th>0</th>\n      <td>2020-03-23 06:09:44</td>\n      <td>2020-03-23 06:16:26</td>\n      <td>Kuusitie</td>\n      <td>Esterinportti</td>\n      <td>1747.0</td>\n      <td>401.0</td>\n      <td>0.261397</td>\n      <td>0.9</td>\n    </tr>\n    <tr>\n      <th>1</th>\n      <td>2020-03-23 06:11:58</td>\n      <td>2020-03-23 06:26:31</td>\n      <td>Kamppi (M)</td>\n      <td>Kasarmitori</td>\n      <td>1447.0</td>\n      <td>869.0</td>\n      <td>0.099908</td>\n      <td>0.9</td>\n    </tr>\n    <tr>\n      <th>2</th>\n      <td>2020-03-23 06:16:29</td>\n      <td>2020-03-23 06:24:23</td>\n      <td>Porolahden koulu</td>\n      <td>Agnetankuja</td>\n      <td>1772.0</td>\n      <td>469.0</td>\n      <td>0.226695</td>\n      <td>0.9</td>\n    </tr>\n    <tr>\n      <th>3</th>\n      <td>2020-03-23 06:33:53</td>\n      <td>2020-03-23 07:14:03</td>\n      <td>Vallipolku</td>\n      <td>Korppaanmäentie</td>\n      <td>7456.0</td>\n      <td>2406.0</td>\n      <td>0.185935</td>\n      <td>0.9</td>\n    </tr>\n    <tr>\n      <th>4</th>\n      <td>2020-03-23 06:36:09</td>\n      <td>2020-03-23 07:04:10</td>\n      <td>Länsisatamankatu</td>\n      <td>Vilhonvuorenkatu</td>\n      <td>7120.0</td>\n      <td>1679.0</td>\n      <td>0.254437</td>\n      <td>0.9</td>\n    </tr>\n  </tbody>\n</table>\n</div>"
     },
     "metadata": {},
     "execution_count": 5
    }
   ],
   "source": [
    "data.head()"
   ]
  },
  {
   "cell_type": "code",
   "execution_count": 6,
   "metadata": {},
   "outputs": [
    {
     "output_type": "execute_result",
     "data": {
      "text/plain": [
       "       distance (m)  duration (sec.)  avg_speed (km/h)  Air temperature (degC)\n",
       "count  1.215746e+07     1.215746e+07      1.215391e+07            1.214156e+07\n",
       "mean   2.295275e+03     9.597751e+02      3.355556e-01            1.565044e+01\n",
       "std    2.452067e+04     7.346528e+03      3.428006e+01            5.497952e+00\n",
       "min   -4.292467e+06     0.000000e+00     -4.689001e+02           -5.200000e+00\n",
       "25%    1.000000e+03     3.440000e+02      1.467403e-01            1.230000e+01\n",
       "50%    1.739000e+03     5.860000e+02      1.863679e-01            1.640000e+01\n",
       "75%    2.869000e+03     9.710000e+02      2.204348e-01            1.930000e+01\n",
       "max    3.681399e+06     5.401659e+06      1.699104e+04            3.290000e+01"
      ],
      "text/html": "<div>\n<style scoped>\n    .dataframe tbody tr th:only-of-type {\n        vertical-align: middle;\n    }\n\n    .dataframe tbody tr th {\n        vertical-align: top;\n    }\n\n    .dataframe thead th {\n        text-align: right;\n    }\n</style>\n<table border=\"1\" class=\"dataframe\">\n  <thead>\n    <tr style=\"text-align: right;\">\n      <th></th>\n      <th>distance (m)</th>\n      <th>duration (sec.)</th>\n      <th>avg_speed (km/h)</th>\n      <th>Air temperature (degC)</th>\n    </tr>\n  </thead>\n  <tbody>\n    <tr>\n      <th>count</th>\n      <td>1.215746e+07</td>\n      <td>1.215746e+07</td>\n      <td>1.215391e+07</td>\n      <td>1.214156e+07</td>\n    </tr>\n    <tr>\n      <th>mean</th>\n      <td>2.295275e+03</td>\n      <td>9.597751e+02</td>\n      <td>3.355556e-01</td>\n      <td>1.565044e+01</td>\n    </tr>\n    <tr>\n      <th>std</th>\n      <td>2.452067e+04</td>\n      <td>7.346528e+03</td>\n      <td>3.428006e+01</td>\n      <td>5.497952e+00</td>\n    </tr>\n    <tr>\n      <th>min</th>\n      <td>-4.292467e+06</td>\n      <td>0.000000e+00</td>\n      <td>-4.689001e+02</td>\n      <td>-5.200000e+00</td>\n    </tr>\n    <tr>\n      <th>25%</th>\n      <td>1.000000e+03</td>\n      <td>3.440000e+02</td>\n      <td>1.467403e-01</td>\n      <td>1.230000e+01</td>\n    </tr>\n    <tr>\n      <th>50%</th>\n      <td>1.739000e+03</td>\n      <td>5.860000e+02</td>\n      <td>1.863679e-01</td>\n      <td>1.640000e+01</td>\n    </tr>\n    <tr>\n      <th>75%</th>\n      <td>2.869000e+03</td>\n      <td>9.710000e+02</td>\n      <td>2.204348e-01</td>\n      <td>1.930000e+01</td>\n    </tr>\n    <tr>\n      <th>max</th>\n      <td>3.681399e+06</td>\n      <td>5.401659e+06</td>\n      <td>1.699104e+04</td>\n      <td>3.290000e+01</td>\n    </tr>\n  </tbody>\n</table>\n</div>"
     },
     "metadata": {},
     "execution_count": 6
    }
   ],
   "source": [
    "data.describe()"
   ]
  },
  {
   "cell_type": "code",
   "execution_count": 7,
   "metadata": {},
   "outputs": [
    {
     "output_type": "execute_result",
     "data": {
      "text/plain": [
       "Index(['departure', 'return', 'departure_name', 'return_name', 'distance (m)',\n",
       "       'duration (sec.)', 'avg_speed (km/h)', 'Air temperature (degC)'],\n",
       "      dtype='object')"
      ]
     },
     "metadata": {},
     "execution_count": 7
    }
   ],
   "source": [
    "data.columns"
   ]
  },
  {
   "cell_type": "code",
   "execution_count": 8,
   "metadata": {},
   "outputs": [],
   "source": [
    "data.rename(columns={\n",
    "    'distance (m)' : 'distance',\n",
    "    'duration (sec.)' : 'duration',\n",
    "    'avg_speed (km/h)' : 'avg_speed',\n",
    "    'Air temperature (degC)' : 'temperature'\n",
    "}, inplace=True)"
   ]
  },
  {
   "cell_type": "code",
   "execution_count": 9,
   "metadata": {},
   "outputs": [
    {
     "output_type": "execute_result",
     "data": {
      "text/plain": [
       "Index(['departure', 'return', 'departure_name', 'return_name', 'distance',\n",
       "       'duration', 'avg_speed', 'temperature'],\n",
       "      dtype='object')"
      ]
     },
     "metadata": {},
     "execution_count": 9
    }
   ],
   "source": [
    "data.columns"
   ]
  },
  {
   "cell_type": "code",
   "execution_count": 10,
   "metadata": {},
   "outputs": [
    {
     "output_type": "execute_result",
     "data": {
      "text/plain": [
       "departure          object\n",
       "return             object\n",
       "departure_name     object\n",
       "return_name        object\n",
       "distance          float64\n",
       "duration          float64\n",
       "avg_speed         float64\n",
       "temperature       float64\n",
       "dtype: object"
      ]
     },
     "metadata": {},
     "execution_count": 10
    }
   ],
   "source": [
    "data.dtypes"
   ]
  },
  {
   "cell_type": "code",
   "execution_count": 11,
   "metadata": {},
   "outputs": [],
   "source": [
    "data['departure'] = pd.to_datetime(data['departure'])\n",
    "data['return'] = pd.to_datetime(data['return'])"
   ]
  },
  {
   "cell_type": "code",
   "execution_count": 12,
   "metadata": {},
   "outputs": [
    {
     "output_type": "execute_result",
     "data": {
      "text/plain": [
       "departure         datetime64[ns]\n",
       "return            datetime64[ns]\n",
       "departure_name            object\n",
       "return_name               object\n",
       "distance                 float64\n",
       "duration                 float64\n",
       "avg_speed                float64\n",
       "temperature              float64\n",
       "dtype: object"
      ]
     },
     "metadata": {},
     "execution_count": 12
    }
   ],
   "source": [
    "data.dtypes"
   ]
  },
  {
   "cell_type": "code",
   "execution_count": 13,
   "metadata": {},
   "outputs": [
    {
     "output_type": "execute_result",
     "data": {
      "text/plain": [
       "            departure              return      departure_name  \\\n",
       "0 2020-03-23 06:09:44 2020-03-23 06:16:26            Kuusitie   \n",
       "1 2020-03-23 06:11:58 2020-03-23 06:26:31          Kamppi (M)   \n",
       "2 2020-03-23 06:16:29 2020-03-23 06:24:23    Porolahden koulu   \n",
       "3 2020-03-23 06:33:53 2020-03-23 07:14:03          Vallipolku   \n",
       "4 2020-03-23 06:36:09 2020-03-23 07:04:10    Länsisatamankatu   \n",
       "5 2020-03-23 06:37:52 2020-03-23 06:58:56           Radiokatu   \n",
       "6 2020-03-23 06:39:51 2020-03-23 06:45:30     Tyynenmerenkatu   \n",
       "7 2020-03-23 06:44:37 2020-03-24 12:02:19        Itämerentori   \n",
       "8 2020-03-23 06:47:18 2020-03-23 07:01:09         Koskelantie   \n",
       "9 2020-03-23 06:47:22 2020-03-23 06:56:22  Rautatieläisenkatu   \n",
       "\n",
       "           return_name  distance  duration  avg_speed  temperature  \n",
       "0        Esterinportti    1747.0     401.0   0.261397          0.9  \n",
       "1          Kasarmitori    1447.0     869.0   0.099908          0.9  \n",
       "2          Agnetankuja    1772.0     469.0   0.226695          0.9  \n",
       "3      Korppaanmäentie    7456.0    2406.0   0.185935          0.9  \n",
       "4     Vilhonvuorenkatu    7120.0    1679.0   0.254437          0.9  \n",
       "5            Porthania    5169.0    1262.0   0.245753          0.9  \n",
       "6      Hietalahdentori    1194.0     335.0   0.213851          0.9  \n",
       "7   Meilahden sairaala    3651.0    1195.0   0.183314          0.9  \n",
       "8       Kalasatama (M)    3120.0     827.0   0.226360          0.9  \n",
       "9  A.I. Virtasen aukio    2070.0     535.0   0.232150          0.9  "
      ],
      "text/html": "<div>\n<style scoped>\n    .dataframe tbody tr th:only-of-type {\n        vertical-align: middle;\n    }\n\n    .dataframe tbody tr th {\n        vertical-align: top;\n    }\n\n    .dataframe thead th {\n        text-align: right;\n    }\n</style>\n<table border=\"1\" class=\"dataframe\">\n  <thead>\n    <tr style=\"text-align: right;\">\n      <th></th>\n      <th>departure</th>\n      <th>return</th>\n      <th>departure_name</th>\n      <th>return_name</th>\n      <th>distance</th>\n      <th>duration</th>\n      <th>avg_speed</th>\n      <th>temperature</th>\n    </tr>\n  </thead>\n  <tbody>\n    <tr>\n      <th>0</th>\n      <td>2020-03-23 06:09:44</td>\n      <td>2020-03-23 06:16:26</td>\n      <td>Kuusitie</td>\n      <td>Esterinportti</td>\n      <td>1747.0</td>\n      <td>401.0</td>\n      <td>0.261397</td>\n      <td>0.9</td>\n    </tr>\n    <tr>\n      <th>1</th>\n      <td>2020-03-23 06:11:58</td>\n      <td>2020-03-23 06:26:31</td>\n      <td>Kamppi (M)</td>\n      <td>Kasarmitori</td>\n      <td>1447.0</td>\n      <td>869.0</td>\n      <td>0.099908</td>\n      <td>0.9</td>\n    </tr>\n    <tr>\n      <th>2</th>\n      <td>2020-03-23 06:16:29</td>\n      <td>2020-03-23 06:24:23</td>\n      <td>Porolahden koulu</td>\n      <td>Agnetankuja</td>\n      <td>1772.0</td>\n      <td>469.0</td>\n      <td>0.226695</td>\n      <td>0.9</td>\n    </tr>\n    <tr>\n      <th>3</th>\n      <td>2020-03-23 06:33:53</td>\n      <td>2020-03-23 07:14:03</td>\n      <td>Vallipolku</td>\n      <td>Korppaanmäentie</td>\n      <td>7456.0</td>\n      <td>2406.0</td>\n      <td>0.185935</td>\n      <td>0.9</td>\n    </tr>\n    <tr>\n      <th>4</th>\n      <td>2020-03-23 06:36:09</td>\n      <td>2020-03-23 07:04:10</td>\n      <td>Länsisatamankatu</td>\n      <td>Vilhonvuorenkatu</td>\n      <td>7120.0</td>\n      <td>1679.0</td>\n      <td>0.254437</td>\n      <td>0.9</td>\n    </tr>\n    <tr>\n      <th>5</th>\n      <td>2020-03-23 06:37:52</td>\n      <td>2020-03-23 06:58:56</td>\n      <td>Radiokatu</td>\n      <td>Porthania</td>\n      <td>5169.0</td>\n      <td>1262.0</td>\n      <td>0.245753</td>\n      <td>0.9</td>\n    </tr>\n    <tr>\n      <th>6</th>\n      <td>2020-03-23 06:39:51</td>\n      <td>2020-03-23 06:45:30</td>\n      <td>Tyynenmerenkatu</td>\n      <td>Hietalahdentori</td>\n      <td>1194.0</td>\n      <td>335.0</td>\n      <td>0.213851</td>\n      <td>0.9</td>\n    </tr>\n    <tr>\n      <th>7</th>\n      <td>2020-03-23 06:44:37</td>\n      <td>2020-03-24 12:02:19</td>\n      <td>Itämerentori</td>\n      <td>Meilahden sairaala</td>\n      <td>3651.0</td>\n      <td>1195.0</td>\n      <td>0.183314</td>\n      <td>0.9</td>\n    </tr>\n    <tr>\n      <th>8</th>\n      <td>2020-03-23 06:47:18</td>\n      <td>2020-03-23 07:01:09</td>\n      <td>Koskelantie</td>\n      <td>Kalasatama (M)</td>\n      <td>3120.0</td>\n      <td>827.0</td>\n      <td>0.226360</td>\n      <td>0.9</td>\n    </tr>\n    <tr>\n      <th>9</th>\n      <td>2020-03-23 06:47:22</td>\n      <td>2020-03-23 06:56:22</td>\n      <td>Rautatieläisenkatu</td>\n      <td>A.I. Virtasen aukio</td>\n      <td>2070.0</td>\n      <td>535.0</td>\n      <td>0.232150</td>\n      <td>0.9</td>\n    </tr>\n  </tbody>\n</table>\n</div>"
     },
     "metadata": {},
     "execution_count": 13
    }
   ],
   "source": [
    "data.head(10)"
   ]
  },
  {
   "source": [
    "## Drop data with uselss data - distance == 0, etc."
   ],
   "cell_type": "markdown",
   "metadata": {}
  },
  {
   "cell_type": "code",
   "execution_count": 14,
   "metadata": {},
   "outputs": [],
   "source": [
    "data.drop(data[data['distance'] == 0].index, inplace=True)\n"
   ]
  },
  {
   "source": [
    "## Create HTML report of the dataset in out/ directory"
   ],
   "cell_type": "markdown",
   "metadata": {}
  },
  {
   "cell_type": "code",
   "execution_count": 15,
   "metadata": {},
   "outputs": [],
   "source": [
    "# !!! Full profiling takes a lot of time and big chunk of RAM; Uncomment the next line to run full profiler.\n",
    "\n",
    "# profile = ProfileReport(data, title='Helsinki City Bikes')\n",
    "profile = ProfileReport(data, title='Helsinki City Bikes', minimal=True)\n",
    "profile.to_file(output_path + 'bikes.html')"
   ]
  },
  {
   "cell_type": "code",
   "execution_count": 16,
   "metadata": {},
   "outputs": [
    {
     "output_type": "execute_result",
     "data": {
      "text/plain": [
       "departure_name\n",
       "A.I. Virtasen aukio                       10605\n",
       "Aalto-yliopisto (M), Korkeakouluaukio     92852\n",
       "Aalto-yliopisto (M), Tietotie             25808\n",
       "Abraham Wetterin tie                      11088\n",
       "Agnetankuja                               13412\n",
       "                                          ...  \n",
       "Von Daehnin katu                           3292\n",
       "Westendinasema                            15426\n",
       "Westendintie                               6932\n",
       "Yhdyskunnankuja                            8422\n",
       "Ympyrätalo                               167796\n",
       "Length: 347, dtype: int64"
      ]
     },
     "metadata": {},
     "execution_count": 16
    }
   ],
   "source": [
    "data.groupby(by='departure_name').size()"
   ]
  },
  {
   "cell_type": "code",
   "execution_count": 17,
   "metadata": {},
   "outputs": [
    {
     "output_type": "execute_result",
     "data": {
      "text/plain": [
       "                   departure              return      departure_name  \\\n",
       "1456090  2020-07-04 12:26:49 2020-07-04 12:49:33  Verkatehtaanpuisto   \n",
       "1669654  2020-07-17 17:05:32 2020-07-17 17:33:08           Valimotie   \n",
       "1783328  2020-07-23 21:36:33 2020-07-23 21:47:05       Sörnäinen (M)   \n",
       "1912295  2020-07-31 23:45:28 2020-08-01 00:09:21         Pohjankulma   \n",
       "2294615  2020-08-20 16:08:40 2020-08-20 16:29:36           Painiitty   \n",
       "6888855  2019-10-27 20:13:52 2019-10-27 20:23:02           Niittymaa   \n",
       "10027503 2018-10-15 19:01:14 2018-10-15 19:16:20     Velodrominrinne   \n",
       "\n",
       "             return_name   distance  duration   avg_speed  temperature  \n",
       "1456090       Lepolantie -4289957.0    1362.0 -188.984890         16.4  \n",
       "1669654    Jämeräntaival -4286859.0    1654.0 -155.508791         23.6  \n",
       "1783328       Intiankatu -4292467.0     633.0 -406.868910         13.5  \n",
       "1912295   Lehtisaarentie -4291050.0    1430.0 -180.044056         15.5  \n",
       "2294615        Teljäntie -4290278.0    1255.0 -205.112892         21.8  \n",
       "6888855       Länsituuli -4290436.0     549.0 -468.900109          1.9  \n",
       "10027503   Hakaniemi (M) -4286564.0     905.0 -284.192088         12.0  "
      ],
      "text/html": "<div>\n<style scoped>\n    .dataframe tbody tr th:only-of-type {\n        vertical-align: middle;\n    }\n\n    .dataframe tbody tr th {\n        vertical-align: top;\n    }\n\n    .dataframe thead th {\n        text-align: right;\n    }\n</style>\n<table border=\"1\" class=\"dataframe\">\n  <thead>\n    <tr style=\"text-align: right;\">\n      <th></th>\n      <th>departure</th>\n      <th>return</th>\n      <th>departure_name</th>\n      <th>return_name</th>\n      <th>distance</th>\n      <th>duration</th>\n      <th>avg_speed</th>\n      <th>temperature</th>\n    </tr>\n  </thead>\n  <tbody>\n    <tr>\n      <th>1456090</th>\n      <td>2020-07-04 12:26:49</td>\n      <td>2020-07-04 12:49:33</td>\n      <td>Verkatehtaanpuisto</td>\n      <td>Lepolantie</td>\n      <td>-4289957.0</td>\n      <td>1362.0</td>\n      <td>-188.984890</td>\n      <td>16.4</td>\n    </tr>\n    <tr>\n      <th>1669654</th>\n      <td>2020-07-17 17:05:32</td>\n      <td>2020-07-17 17:33:08</td>\n      <td>Valimotie</td>\n      <td>Jämeräntaival</td>\n      <td>-4286859.0</td>\n      <td>1654.0</td>\n      <td>-155.508791</td>\n      <td>23.6</td>\n    </tr>\n    <tr>\n      <th>1783328</th>\n      <td>2020-07-23 21:36:33</td>\n      <td>2020-07-23 21:47:05</td>\n      <td>Sörnäinen (M)</td>\n      <td>Intiankatu</td>\n      <td>-4292467.0</td>\n      <td>633.0</td>\n      <td>-406.868910</td>\n      <td>13.5</td>\n    </tr>\n    <tr>\n      <th>1912295</th>\n      <td>2020-07-31 23:45:28</td>\n      <td>2020-08-01 00:09:21</td>\n      <td>Pohjankulma</td>\n      <td>Lehtisaarentie</td>\n      <td>-4291050.0</td>\n      <td>1430.0</td>\n      <td>-180.044056</td>\n      <td>15.5</td>\n    </tr>\n    <tr>\n      <th>2294615</th>\n      <td>2020-08-20 16:08:40</td>\n      <td>2020-08-20 16:29:36</td>\n      <td>Painiitty</td>\n      <td>Teljäntie</td>\n      <td>-4290278.0</td>\n      <td>1255.0</td>\n      <td>-205.112892</td>\n      <td>21.8</td>\n    </tr>\n    <tr>\n      <th>6888855</th>\n      <td>2019-10-27 20:13:52</td>\n      <td>2019-10-27 20:23:02</td>\n      <td>Niittymaa</td>\n      <td>Länsituuli</td>\n      <td>-4290436.0</td>\n      <td>549.0</td>\n      <td>-468.900109</td>\n      <td>1.9</td>\n    </tr>\n    <tr>\n      <th>10027503</th>\n      <td>2018-10-15 19:01:14</td>\n      <td>2018-10-15 19:16:20</td>\n      <td>Velodrominrinne</td>\n      <td>Hakaniemi (M)</td>\n      <td>-4286564.0</td>\n      <td>905.0</td>\n      <td>-284.192088</td>\n      <td>12.0</td>\n    </tr>\n  </tbody>\n</table>\n</div>"
     },
     "metadata": {},
     "execution_count": 17
    }
   ],
   "source": [
    "data[((data.distance <= 0) | (data.avg_speed <= 0))]"
   ]
  },
  {
   "cell_type": "code",
   "execution_count": 23,
   "metadata": {},
   "outputs": [],
   "source": [
    "clf = LocalOutlierFactor(n_neighbors=20)\n",
    "outlier_array = clf.fit_predict(data[['distance', 'duration', 'avg_speed']])"
   ]
  },
  {
   "cell_type": "code",
   "execution_count": 28,
   "metadata": {},
   "outputs": [],
   "source": [
    "# Map -1 to True and 1 to False for outliers\n",
    "converter = lambda val: True if val == -1 else False\n",
    "outliers = np.array([converter(val) for val in outlier_array])"
   ]
  },
  {
   "cell_type": "code",
   "execution_count": 25,
   "metadata": {},
   "outputs": [
    {
     "output_type": "error",
     "ename": "ValueError",
     "evalue": "Item wrong length 100 instead of 11769724.",
     "traceback": [
      "\u001b[0;31m---------------------------------------------------------------------------\u001b[0m",
      "\u001b[0;31mValueError\u001b[0m                                Traceback (most recent call last)",
      "\u001b[0;32m<ipython-input-25-7b64019ce8e6>\u001b[0m in \u001b[0;36m<module>\u001b[0;34m\u001b[0m\n\u001b[0;32m----> 1\u001b[0;31m \u001b[0mdata\u001b[0m\u001b[0;34m[\u001b[0m\u001b[0moutliers\u001b[0m\u001b[0;34m]\u001b[0m\u001b[0;34m\u001b[0m\u001b[0;34m\u001b[0m\u001b[0m\n\u001b[0m",
      "\u001b[0;32m~/Programs/anaconda3/envs/dv/lib/python3.9/site-packages/pandas/core/frame.py\u001b[0m in \u001b[0;36m__getitem__\u001b[0;34m(self, key)\u001b[0m\n\u001b[1;32m   3013\u001b[0m         \u001b[0;31m# Do we have a (boolean) 1d indexer?\u001b[0m\u001b[0;34m\u001b[0m\u001b[0;34m\u001b[0m\u001b[0;34m\u001b[0m\u001b[0m\n\u001b[1;32m   3014\u001b[0m         \u001b[0;32mif\u001b[0m \u001b[0mcom\u001b[0m\u001b[0;34m.\u001b[0m\u001b[0mis_bool_indexer\u001b[0m\u001b[0;34m(\u001b[0m\u001b[0mkey\u001b[0m\u001b[0;34m)\u001b[0m\u001b[0;34m:\u001b[0m\u001b[0;34m\u001b[0m\u001b[0;34m\u001b[0m\u001b[0m\n\u001b[0;32m-> 3015\u001b[0;31m             \u001b[0;32mreturn\u001b[0m \u001b[0mself\u001b[0m\u001b[0;34m.\u001b[0m\u001b[0m_getitem_bool_array\u001b[0m\u001b[0;34m(\u001b[0m\u001b[0mkey\u001b[0m\u001b[0;34m)\u001b[0m\u001b[0;34m\u001b[0m\u001b[0;34m\u001b[0m\u001b[0m\n\u001b[0m\u001b[1;32m   3016\u001b[0m \u001b[0;34m\u001b[0m\u001b[0m\n\u001b[1;32m   3017\u001b[0m         \u001b[0;31m# We are left with two options: a single key, and a collection of keys,\u001b[0m\u001b[0;34m\u001b[0m\u001b[0;34m\u001b[0m\u001b[0;34m\u001b[0m\u001b[0m\n",
      "\u001b[0;32m~/Programs/anaconda3/envs/dv/lib/python3.9/site-packages/pandas/core/frame.py\u001b[0m in \u001b[0;36m_getitem_bool_array\u001b[0;34m(self, key)\u001b[0m\n\u001b[1;32m   3060\u001b[0m             )\n\u001b[1;32m   3061\u001b[0m         \u001b[0;32melif\u001b[0m \u001b[0mlen\u001b[0m\u001b[0;34m(\u001b[0m\u001b[0mkey\u001b[0m\u001b[0;34m)\u001b[0m \u001b[0;34m!=\u001b[0m \u001b[0mlen\u001b[0m\u001b[0;34m(\u001b[0m\u001b[0mself\u001b[0m\u001b[0;34m.\u001b[0m\u001b[0mindex\u001b[0m\u001b[0;34m)\u001b[0m\u001b[0;34m:\u001b[0m\u001b[0;34m\u001b[0m\u001b[0;34m\u001b[0m\u001b[0m\n\u001b[0;32m-> 3062\u001b[0;31m             raise ValueError(\n\u001b[0m\u001b[1;32m   3063\u001b[0m                 \u001b[0;34mf\"Item wrong length {len(key)} instead of {len(self.index)}.\"\u001b[0m\u001b[0;34m\u001b[0m\u001b[0;34m\u001b[0m\u001b[0m\n\u001b[1;32m   3064\u001b[0m             )\n",
      "\u001b[0;31mValueError\u001b[0m: Item wrong length 100 instead of 11769724."
     ]
    }
   ],
   "source": [
    "dat_outliers = data[outliers]\n",
    "print(f\"Detected {len(dat_outliers)} outliers in dataset!\")\n",
    "dat_outliers.head(20)"
   ]
  }
 ],
 "metadata": {
  "kernelspec": {
   "name": "python395jvsc74a57bd05a1fe3d1c50c11911509ab0348ab3f186d90ef0cd1f725492b7983e84a75f973",
   "display_name": "Python 3.9.5 64-bit ('dv': conda)"
  },
  "language_info": {
   "codemirror_mode": {
    "name": "ipython",
    "version": 3
   },
   "file_extension": ".py",
   "mimetype": "text/x-python",
   "name": "python",
   "nbconvert_exporter": "python",
   "pygments_lexer": "ipython3",
   "version": "3.9.5"
  },
  "metadata": {
   "interpreter": {
    "hash": "95321c224c287617fc7804e2e293caec215de425cca0178de3da1ce81558eb74"
   }
  }
 },
 "nbformat": 4,
 "nbformat_minor": 4
}