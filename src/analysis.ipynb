{
 "cells": [
  {
   "cell_type": "code",
   "execution_count": 1,
   "metadata": {},
   "outputs": [],
   "source": [
    "import pandas as pd\n",
    "import numpy as np\n",
    "import datetime\n",
    "\n",
    "from pandas_profiling import ProfileReport"
   ]
  },
  {
   "cell_type": "code",
   "execution_count": 2,
   "metadata": {},
   "outputs": [],
   "source": [
    "data_path = '../data/'\n",
    "output_path = '../out/'"
   ]
  },
  {
   "cell_type": "code",
   "execution_count": 3,
   "metadata": {},
   "outputs": [
    {
     "name": "stderr",
     "output_type": "stream",
     "text": [
      "D:\\anaconda3\\envs\\dv\\lib\\site-packages\\IPython\\core\\interactiveshell.py:3165: DtypeWarning: Columns (2,4) have mixed types.Specify dtype option on import or set low_memory=False.\n",
      "  has_raised = await self.run_ast_nodes(code_ast.body, cell_name,\n"
     ]
    }
   ],
   "source": [
    "data = pd.read_csv(data_path + 'bikes.csv')"
   ]
  },
  {
   "cell_type": "code",
   "execution_count": 4,
   "metadata": {},
   "outputs": [],
   "source": [
    "data.drop(\n",
    "    [\n",
    "        'departure_latitude', 'departure_longitude', 'return_latitude', 'return_longitude',\n",
    "        'departure_id', 'return_id'\n",
    "\n",
    "    ],\n",
    "    axis=1, inplace=True\n",
    ")"
   ]
  },
  {
   "cell_type": "code",
   "execution_count": 5,
   "metadata": {},
   "outputs": [
    {
     "data": {
      "text/html": [
       "<div>\n",
       "<style scoped>\n",
       "    .dataframe tbody tr th:only-of-type {\n",
       "        vertical-align: middle;\n",
       "    }\n",
       "\n",
       "    .dataframe tbody tr th {\n",
       "        vertical-align: top;\n",
       "    }\n",
       "\n",
       "    .dataframe thead th {\n",
       "        text-align: right;\n",
       "    }\n",
       "</style>\n",
       "<table border=\"1\" class=\"dataframe\">\n",
       "  <thead>\n",
       "    <tr style=\"text-align: right;\">\n",
       "      <th></th>\n",
       "      <th>departure</th>\n",
       "      <th>return</th>\n",
       "      <th>departure_name</th>\n",
       "      <th>return_name</th>\n",
       "      <th>distance (m)</th>\n",
       "      <th>duration (sec.)</th>\n",
       "      <th>avg_speed (km/h)</th>\n",
       "      <th>Air temperature (degC)</th>\n",
       "    </tr>\n",
       "  </thead>\n",
       "  <tbody>\n",
       "    <tr>\n",
       "      <th>0</th>\n",
       "      <td>2020-03-23 06:09:44</td>\n",
       "      <td>2020-03-23 06:16:26</td>\n",
       "      <td>Kuusitie</td>\n",
       "      <td>Esterinportti</td>\n",
       "      <td>1747.0</td>\n",
       "      <td>401.0</td>\n",
       "      <td>0.261397</td>\n",
       "      <td>0.9</td>\n",
       "    </tr>\n",
       "    <tr>\n",
       "      <th>1</th>\n",
       "      <td>2020-03-23 06:11:58</td>\n",
       "      <td>2020-03-23 06:26:31</td>\n",
       "      <td>Kamppi (M)</td>\n",
       "      <td>Kasarmitori</td>\n",
       "      <td>1447.0</td>\n",
       "      <td>869.0</td>\n",
       "      <td>0.099908</td>\n",
       "      <td>0.9</td>\n",
       "    </tr>\n",
       "    <tr>\n",
       "      <th>2</th>\n",
       "      <td>2020-03-23 06:16:29</td>\n",
       "      <td>2020-03-23 06:24:23</td>\n",
       "      <td>Porolahden koulu</td>\n",
       "      <td>Agnetankuja</td>\n",
       "      <td>1772.0</td>\n",
       "      <td>469.0</td>\n",
       "      <td>0.226695</td>\n",
       "      <td>0.9</td>\n",
       "    </tr>\n",
       "    <tr>\n",
       "      <th>3</th>\n",
       "      <td>2020-03-23 06:33:53</td>\n",
       "      <td>2020-03-23 07:14:03</td>\n",
       "      <td>Vallipolku</td>\n",
       "      <td>Korppaanmäentie</td>\n",
       "      <td>7456.0</td>\n",
       "      <td>2406.0</td>\n",
       "      <td>0.185935</td>\n",
       "      <td>0.9</td>\n",
       "    </tr>\n",
       "    <tr>\n",
       "      <th>4</th>\n",
       "      <td>2020-03-23 06:36:09</td>\n",
       "      <td>2020-03-23 07:04:10</td>\n",
       "      <td>Länsisatamankatu</td>\n",
       "      <td>Vilhonvuorenkatu</td>\n",
       "      <td>7120.0</td>\n",
       "      <td>1679.0</td>\n",
       "      <td>0.254437</td>\n",
       "      <td>0.9</td>\n",
       "    </tr>\n",
       "  </tbody>\n",
       "</table>\n",
       "</div>"
      ],
      "text/plain": [
       "             departure               return    departure_name  \\\n",
       "0  2020-03-23 06:09:44  2020-03-23 06:16:26          Kuusitie   \n",
       "1  2020-03-23 06:11:58  2020-03-23 06:26:31        Kamppi (M)   \n",
       "2  2020-03-23 06:16:29  2020-03-23 06:24:23  Porolahden koulu   \n",
       "3  2020-03-23 06:33:53  2020-03-23 07:14:03        Vallipolku   \n",
       "4  2020-03-23 06:36:09  2020-03-23 07:04:10  Länsisatamankatu   \n",
       "\n",
       "        return_name  distance (m)  duration (sec.)  avg_speed (km/h)  \\\n",
       "0     Esterinportti        1747.0            401.0          0.261397   \n",
       "1       Kasarmitori        1447.0            869.0          0.099908   \n",
       "2       Agnetankuja        1772.0            469.0          0.226695   \n",
       "3   Korppaanmäentie        7456.0           2406.0          0.185935   \n",
       "4  Vilhonvuorenkatu        7120.0           1679.0          0.254437   \n",
       "\n",
       "   Air temperature (degC)  \n",
       "0                     0.9  \n",
       "1                     0.9  \n",
       "2                     0.9  \n",
       "3                     0.9  \n",
       "4                     0.9  "
      ]
     },
     "execution_count": 5,
     "metadata": {},
     "output_type": "execute_result"
    }
   ],
   "source": [
    "data.head()"
   ]
  },
  {
   "cell_type": "code",
   "execution_count": 6,
   "metadata": {},
   "outputs": [
    {
     "data": {
      "text/html": [
       "<div>\n",
       "<style scoped>\n",
       "    .dataframe tbody tr th:only-of-type {\n",
       "        vertical-align: middle;\n",
       "    }\n",
       "\n",
       "    .dataframe tbody tr th {\n",
       "        vertical-align: top;\n",
       "    }\n",
       "\n",
       "    .dataframe thead th {\n",
       "        text-align: right;\n",
       "    }\n",
       "</style>\n",
       "<table border=\"1\" class=\"dataframe\">\n",
       "  <thead>\n",
       "    <tr style=\"text-align: right;\">\n",
       "      <th></th>\n",
       "      <th>distance (m)</th>\n",
       "      <th>duration (sec.)</th>\n",
       "      <th>avg_speed (km/h)</th>\n",
       "      <th>Air temperature (degC)</th>\n",
       "    </tr>\n",
       "  </thead>\n",
       "  <tbody>\n",
       "    <tr>\n",
       "      <th>count</th>\n",
       "      <td>1.215746e+07</td>\n",
       "      <td>1.215746e+07</td>\n",
       "      <td>1.215391e+07</td>\n",
       "      <td>1.214156e+07</td>\n",
       "    </tr>\n",
       "    <tr>\n",
       "      <th>mean</th>\n",
       "      <td>2.295275e+03</td>\n",
       "      <td>9.597751e+02</td>\n",
       "      <td>3.355556e-01</td>\n",
       "      <td>1.565044e+01</td>\n",
       "    </tr>\n",
       "    <tr>\n",
       "      <th>std</th>\n",
       "      <td>2.452067e+04</td>\n",
       "      <td>7.346528e+03</td>\n",
       "      <td>3.428006e+01</td>\n",
       "      <td>5.497952e+00</td>\n",
       "    </tr>\n",
       "    <tr>\n",
       "      <th>min</th>\n",
       "      <td>-4.292467e+06</td>\n",
       "      <td>0.000000e+00</td>\n",
       "      <td>-4.689001e+02</td>\n",
       "      <td>-5.200000e+00</td>\n",
       "    </tr>\n",
       "    <tr>\n",
       "      <th>25%</th>\n",
       "      <td>1.000000e+03</td>\n",
       "      <td>3.440000e+02</td>\n",
       "      <td>1.467403e-01</td>\n",
       "      <td>1.230000e+01</td>\n",
       "    </tr>\n",
       "    <tr>\n",
       "      <th>50%</th>\n",
       "      <td>1.739000e+03</td>\n",
       "      <td>5.860000e+02</td>\n",
       "      <td>1.863679e-01</td>\n",
       "      <td>1.640000e+01</td>\n",
       "    </tr>\n",
       "    <tr>\n",
       "      <th>75%</th>\n",
       "      <td>2.869000e+03</td>\n",
       "      <td>9.710000e+02</td>\n",
       "      <td>2.204348e-01</td>\n",
       "      <td>1.930000e+01</td>\n",
       "    </tr>\n",
       "    <tr>\n",
       "      <th>max</th>\n",
       "      <td>3.681399e+06</td>\n",
       "      <td>5.401659e+06</td>\n",
       "      <td>1.699104e+04</td>\n",
       "      <td>3.290000e+01</td>\n",
       "    </tr>\n",
       "  </tbody>\n",
       "</table>\n",
       "</div>"
      ],
      "text/plain": [
       "       distance (m)  duration (sec.)  avg_speed (km/h)  Air temperature (degC)\n",
       "count  1.215746e+07     1.215746e+07      1.215391e+07            1.214156e+07\n",
       "mean   2.295275e+03     9.597751e+02      3.355556e-01            1.565044e+01\n",
       "std    2.452067e+04     7.346528e+03      3.428006e+01            5.497952e+00\n",
       "min   -4.292467e+06     0.000000e+00     -4.689001e+02           -5.200000e+00\n",
       "25%    1.000000e+03     3.440000e+02      1.467403e-01            1.230000e+01\n",
       "50%    1.739000e+03     5.860000e+02      1.863679e-01            1.640000e+01\n",
       "75%    2.869000e+03     9.710000e+02      2.204348e-01            1.930000e+01\n",
       "max    3.681399e+06     5.401659e+06      1.699104e+04            3.290000e+01"
      ]
     },
     "execution_count": 6,
     "metadata": {},
     "output_type": "execute_result"
    }
   ],
   "source": [
    "data.describe()"
   ]
  },
  {
   "cell_type": "code",
   "execution_count": 7,
   "metadata": {},
   "outputs": [
    {
     "data": {
      "text/plain": [
       "Index(['departure', 'return', 'departure_name', 'return_name', 'distance (m)',\n",
       "       'duration (sec.)', 'avg_speed (km/h)', 'Air temperature (degC)'],\n",
       "      dtype='object')"
      ]
     },
     "execution_count": 7,
     "metadata": {},
     "output_type": "execute_result"
    }
   ],
   "source": [
    "data.columns"
   ]
  },
  {
   "cell_type": "code",
   "execution_count": 8,
   "metadata": {},
   "outputs": [],
   "source": [
    "data.rename(columns={\n",
    "    'distance (m)' : 'distance',\n",
    "    'duration (sec.)' : 'duration',\n",
    "    'avg_speed (km/h)' : 'avg_speed',\n",
    "    'Air temperature (degC)' : 'temperature'\n",
    "}, inplace=True)"
   ]
  },
  {
   "cell_type": "code",
   "execution_count": 9,
   "metadata": {},
   "outputs": [
    {
     "data": {
      "text/plain": [
       "Index(['departure', 'return', 'departure_name', 'return_name', 'distance',\n",
       "       'duration', 'avg_speed', 'temperature'],\n",
       "      dtype='object')"
      ]
     },
     "execution_count": 9,
     "metadata": {},
     "output_type": "execute_result"
    }
   ],
   "source": [
    "data.columns"
   ]
  },
  {
   "cell_type": "code",
   "execution_count": 10,
   "metadata": {},
   "outputs": [
    {
     "data": {
      "text/plain": [
       "departure          object\n",
       "return             object\n",
       "departure_name     object\n",
       "return_name        object\n",
       "distance          float64\n",
       "duration          float64\n",
       "avg_speed         float64\n",
       "temperature       float64\n",
       "dtype: object"
      ]
     },
     "execution_count": 10,
     "metadata": {},
     "output_type": "execute_result"
    }
   ],
   "source": [
    "data.dtypes"
   ]
  },
  {
   "cell_type": "code",
   "execution_count": 11,
   "metadata": {},
   "outputs": [],
   "source": [
    "data['departure'] = pd.to_datetime(data['departure'])\n",
    "data['return'] = pd.to_datetime(data['return'])"
   ]
  },
  {
   "cell_type": "code",
   "execution_count": 12,
   "metadata": {},
   "outputs": [
    {
     "data": {
      "text/plain": [
       "departure         datetime64[ns]\n",
       "return            datetime64[ns]\n",
       "departure_name            object\n",
       "return_name               object\n",
       "distance                 float64\n",
       "duration                 float64\n",
       "avg_speed                float64\n",
       "temperature              float64\n",
       "dtype: object"
      ]
     },
     "execution_count": 12,
     "metadata": {},
     "output_type": "execute_result"
    }
   ],
   "source": [
    "data.dtypes"
   ]
  },
  {
   "cell_type": "code",
   "execution_count": 16,
   "metadata": {},
   "outputs": [
    {
     "data": {
      "text/html": [
       "<div>\n",
       "<style scoped>\n",
       "    .dataframe tbody tr th:only-of-type {\n",
       "        vertical-align: middle;\n",
       "    }\n",
       "\n",
       "    .dataframe tbody tr th {\n",
       "        vertical-align: top;\n",
       "    }\n",
       "\n",
       "    .dataframe thead th {\n",
       "        text-align: right;\n",
       "    }\n",
       "</style>\n",
       "<table border=\"1\" class=\"dataframe\">\n",
       "  <thead>\n",
       "    <tr style=\"text-align: right;\">\n",
       "      <th></th>\n",
       "      <th>departure</th>\n",
       "      <th>return</th>\n",
       "      <th>departure_name</th>\n",
       "      <th>return_name</th>\n",
       "      <th>distance</th>\n",
       "      <th>duration</th>\n",
       "      <th>avg_speed</th>\n",
       "      <th>temperature</th>\n",
       "    </tr>\n",
       "  </thead>\n",
       "  <tbody>\n",
       "    <tr>\n",
       "      <th>0</th>\n",
       "      <td>2020-03-23 06:09:44</td>\n",
       "      <td>2020-03-23 06:16:26</td>\n",
       "      <td>Kuusitie</td>\n",
       "      <td>Esterinportti</td>\n",
       "      <td>1747.0</td>\n",
       "      <td>401.0</td>\n",
       "      <td>0.261397</td>\n",
       "      <td>0.9</td>\n",
       "    </tr>\n",
       "    <tr>\n",
       "      <th>1</th>\n",
       "      <td>2020-03-23 06:11:58</td>\n",
       "      <td>2020-03-23 06:26:31</td>\n",
       "      <td>Kamppi (M)</td>\n",
       "      <td>Kasarmitori</td>\n",
       "      <td>1447.0</td>\n",
       "      <td>869.0</td>\n",
       "      <td>0.099908</td>\n",
       "      <td>0.9</td>\n",
       "    </tr>\n",
       "    <tr>\n",
       "      <th>2</th>\n",
       "      <td>2020-03-23 06:16:29</td>\n",
       "      <td>2020-03-23 06:24:23</td>\n",
       "      <td>Porolahden koulu</td>\n",
       "      <td>Agnetankuja</td>\n",
       "      <td>1772.0</td>\n",
       "      <td>469.0</td>\n",
       "      <td>0.226695</td>\n",
       "      <td>0.9</td>\n",
       "    </tr>\n",
       "    <tr>\n",
       "      <th>3</th>\n",
       "      <td>2020-03-23 06:33:53</td>\n",
       "      <td>2020-03-23 07:14:03</td>\n",
       "      <td>Vallipolku</td>\n",
       "      <td>Korppaanmäentie</td>\n",
       "      <td>7456.0</td>\n",
       "      <td>2406.0</td>\n",
       "      <td>0.185935</td>\n",
       "      <td>0.9</td>\n",
       "    </tr>\n",
       "    <tr>\n",
       "      <th>4</th>\n",
       "      <td>2020-03-23 06:36:09</td>\n",
       "      <td>2020-03-23 07:04:10</td>\n",
       "      <td>Länsisatamankatu</td>\n",
       "      <td>Vilhonvuorenkatu</td>\n",
       "      <td>7120.0</td>\n",
       "      <td>1679.0</td>\n",
       "      <td>0.254437</td>\n",
       "      <td>0.9</td>\n",
       "    </tr>\n",
       "    <tr>\n",
       "      <th>5</th>\n",
       "      <td>2020-03-23 06:37:52</td>\n",
       "      <td>2020-03-23 06:58:56</td>\n",
       "      <td>Radiokatu</td>\n",
       "      <td>Porthania</td>\n",
       "      <td>5169.0</td>\n",
       "      <td>1262.0</td>\n",
       "      <td>0.245753</td>\n",
       "      <td>0.9</td>\n",
       "    </tr>\n",
       "    <tr>\n",
       "      <th>6</th>\n",
       "      <td>2020-03-23 06:39:51</td>\n",
       "      <td>2020-03-23 06:45:30</td>\n",
       "      <td>Tyynenmerenkatu</td>\n",
       "      <td>Hietalahdentori</td>\n",
       "      <td>1194.0</td>\n",
       "      <td>335.0</td>\n",
       "      <td>0.213851</td>\n",
       "      <td>0.9</td>\n",
       "    </tr>\n",
       "    <tr>\n",
       "      <th>7</th>\n",
       "      <td>2020-03-23 06:44:37</td>\n",
       "      <td>2020-03-24 12:02:19</td>\n",
       "      <td>Itämerentori</td>\n",
       "      <td>Meilahden sairaala</td>\n",
       "      <td>3651.0</td>\n",
       "      <td>1195.0</td>\n",
       "      <td>0.183314</td>\n",
       "      <td>0.9</td>\n",
       "    </tr>\n",
       "    <tr>\n",
       "      <th>8</th>\n",
       "      <td>2020-03-23 06:47:18</td>\n",
       "      <td>2020-03-23 07:01:09</td>\n",
       "      <td>Koskelantie</td>\n",
       "      <td>Kalasatama (M)</td>\n",
       "      <td>3120.0</td>\n",
       "      <td>827.0</td>\n",
       "      <td>0.226360</td>\n",
       "      <td>0.9</td>\n",
       "    </tr>\n",
       "    <tr>\n",
       "      <th>9</th>\n",
       "      <td>2020-03-23 06:47:22</td>\n",
       "      <td>2020-03-23 06:56:22</td>\n",
       "      <td>Rautatieläisenkatu</td>\n",
       "      <td>A.I. Virtasen aukio</td>\n",
       "      <td>2070.0</td>\n",
       "      <td>535.0</td>\n",
       "      <td>0.232150</td>\n",
       "      <td>0.9</td>\n",
       "    </tr>\n",
       "  </tbody>\n",
       "</table>\n",
       "</div>"
      ],
      "text/plain": [
       "            departure              return      departure_name  \\\n",
       "0 2020-03-23 06:09:44 2020-03-23 06:16:26            Kuusitie   \n",
       "1 2020-03-23 06:11:58 2020-03-23 06:26:31          Kamppi (M)   \n",
       "2 2020-03-23 06:16:29 2020-03-23 06:24:23    Porolahden koulu   \n",
       "3 2020-03-23 06:33:53 2020-03-23 07:14:03          Vallipolku   \n",
       "4 2020-03-23 06:36:09 2020-03-23 07:04:10    Länsisatamankatu   \n",
       "5 2020-03-23 06:37:52 2020-03-23 06:58:56           Radiokatu   \n",
       "6 2020-03-23 06:39:51 2020-03-23 06:45:30     Tyynenmerenkatu   \n",
       "7 2020-03-23 06:44:37 2020-03-24 12:02:19        Itämerentori   \n",
       "8 2020-03-23 06:47:18 2020-03-23 07:01:09         Koskelantie   \n",
       "9 2020-03-23 06:47:22 2020-03-23 06:56:22  Rautatieläisenkatu   \n",
       "\n",
       "           return_name  distance  duration  avg_speed  temperature  \n",
       "0        Esterinportti    1747.0     401.0   0.261397          0.9  \n",
       "1          Kasarmitori    1447.0     869.0   0.099908          0.9  \n",
       "2          Agnetankuja    1772.0     469.0   0.226695          0.9  \n",
       "3      Korppaanmäentie    7456.0    2406.0   0.185935          0.9  \n",
       "4     Vilhonvuorenkatu    7120.0    1679.0   0.254437          0.9  \n",
       "5            Porthania    5169.0    1262.0   0.245753          0.9  \n",
       "6      Hietalahdentori    1194.0     335.0   0.213851          0.9  \n",
       "7   Meilahden sairaala    3651.0    1195.0   0.183314          0.9  \n",
       "8       Kalasatama (M)    3120.0     827.0   0.226360          0.9  \n",
       "9  A.I. Virtasen aukio    2070.0     535.0   0.232150          0.9  "
      ]
     },
     "execution_count": 16,
     "metadata": {},
     "output_type": "execute_result"
    }
   ],
   "source": [
    "data.head(10)"
   ]
  },
  {
   "cell_type": "code",
   "execution_count": 17,
   "metadata": {},
   "outputs": [],
   "source": [
    "data.drop(data[data['distance'] == 0].index, inplace=True)"
   ]
  },
  {
   "cell_type": "code",
   "execution_count": 18,
   "metadata": {},
   "outputs": [
    {
     "data": {
      "application/vnd.jupyter.widget-view+json": {
       "model_id": "ddfdb12df6e04cfc9c19006b1ba9edad",
       "version_major": 2,
       "version_minor": 0
      },
      "text/plain": [
       "Summarize dataset:   0%|          | 0/23 [00:00<?, ?it/s]"
      ]
     },
     "metadata": {},
     "output_type": "display_data"
    },
    {
     "name": "stderr",
     "output_type": "stream",
     "text": [
      "D:\\anaconda3\\envs\\dv\\lib\\site-packages\\scipy\\stats\\stats.py:4594: RuntimeWarning: overflow encountered in longlong_scalars\n",
      "  (2 * xtie * ytie) / m + x0 * y0 / (9 * m * (size - 2)))\n"
     ]
    },
    {
     "data": {
      "application/vnd.jupyter.widget-view+json": {
       "model_id": "09b0762483bb44709908a2be28d3bcd7",
       "version_major": 2,
       "version_minor": 0
      },
      "text/plain": [
       "Generate report structure:   0%|          | 0/1 [00:00<?, ?it/s]"
      ]
     },
     "metadata": {},
     "output_type": "display_data"
    },
    {
     "data": {
      "application/vnd.jupyter.widget-view+json": {
       "model_id": "7d398939ff524c34a71963d9f7e87c9c",
       "version_major": 2,
       "version_minor": 0
      },
      "text/plain": [
       "Render HTML:   0%|          | 0/1 [00:00<?, ?it/s]"
      ]
     },
     "metadata": {},
     "output_type": "display_data"
    },
    {
     "data": {
      "application/vnd.jupyter.widget-view+json": {
       "model_id": "82a03f95516044d5a69c84951f181d9f",
       "version_major": 2,
       "version_minor": 0
      },
      "text/plain": [
       "Export report to file:   0%|          | 0/1 [00:00<?, ?it/s]"
      ]
     },
     "metadata": {},
     "output_type": "display_data"
    }
   ],
   "source": [
    "profile = ProfileReport(data, title='Helsinki City Bikes')\n",
    "profile.to_file(output_path + 'bikes.html')"
   ]
  },
  {
   "cell_type": "code",
   "execution_count": 15,
   "metadata": {},
   "outputs": [
    {
     "data": {
      "text/plain": [
       "departure_name\n",
       "A.I. Virtasen aukio                       10825\n",
       "Aalto-yliopisto (M), Korkeakouluaukio     95533\n",
       "Aalto-yliopisto (M), Tietotie             26814\n",
       "Abraham Wetterin tie                      11395\n",
       "Agnetankuja                               13751\n",
       "                                          ...  \n",
       "Von Daehnin katu                           3399\n",
       "Westendinasema                            16046\n",
       "Westendintie                               7307\n",
       "Yhdyskunnankuja                            8629\n",
       "Ympyrätalo                               172776\n",
       "Length: 347, dtype: int64"
      ]
     },
     "execution_count": 15,
     "metadata": {},
     "output_type": "execute_result"
    }
   ],
   "source": [
    "data.groupby(by='departure_name').size()"
   ]
  },
  {
   "cell_type": "code",
   "execution_count": 21,
   "metadata": {},
   "outputs": [
    {
     "name": "stdout",
     "output_type": "stream",
     "text": [
      "<class 'pandas.core.frame.DataFrame'>\n",
      "Int64Index: 11769724 entries, 0 to 12157457\n",
      "Data columns (total 8 columns):\n",
      " #   Column          Dtype         \n",
      "---  ------          -----         \n",
      " 0   departure       datetime64[ns]\n",
      " 1   return          datetime64[ns]\n",
      " 2   departure_name  object        \n",
      " 3   return_name     object        \n",
      " 4   distance        float64       \n",
      " 5   duration        float64       \n",
      " 6   avg_speed       float64       \n",
      " 7   temperature     float64       \n",
      "dtypes: datetime64[ns](2), float64(4), object(2)\n",
      "memory usage: 808.2+ MB\n"
     ]
    }
   ],
   "source": [
    "data.info()"
   ]
  }
 ],
 "metadata": {
  "kernelspec": {
   "display_name": "Python 3",
   "language": "python",
   "name": "python3"
  },
  "language_info": {
   "codemirror_mode": {
    "name": "ipython",
    "version": 3
   },
   "file_extension": ".py",
   "mimetype": "text/x-python",
   "name": "python",
   "nbconvert_exporter": "python",
   "pygments_lexer": "ipython3",
   "version": "3.9.4"
  },
  "metadata": {
   "interpreter": {
    "hash": "95321c224c287617fc7804e2e293caec215de425cca0178de3da1ce81558eb74"
   }
  }
 },
 "nbformat": 4,
 "nbformat_minor": 4
}